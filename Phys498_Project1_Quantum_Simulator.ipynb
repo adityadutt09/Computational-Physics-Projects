{
  "cells": [
    {
      "cell_type": "markdown",
      "metadata": {
        "id": "view-in-github",
        "colab_type": "text"
      },
      "source": [
        "<a href=\"https://colab.research.google.com/github/adityadutt09/Phys498Projects/blob/main/Phys498_Project1_Quantum_Simulator.ipynb\" target=\"_parent\"><img src=\"https://colab.research.google.com/assets/colab-badge.svg\" alt=\"Open In Colab\"/></a>"
      ]
    },
    {
      "cell_type": "markdown",
      "source": [
        "## **Building a Quantum Simulator to Implement Shor's Algorithm**"
      ],
      "metadata": {
        "id": "K25CiLzuWQad"
      }
    },
    {
      "cell_type": "markdown",
      "source": [
        "**Dirac Notation**\n",
        "\n",
        "We first want to represent a quantum state of *n* qubits using *n* wires. We can represent a state using Dirac Notation that represents a state as the binary representation of the wires. \n",
        "\n",
        "To implement this concept through code, we use vectors. To do this, we need to come up with some functions that convert a state from dirac notation to vector notation and vice-versa. \n",
        "\n",
        "In general, a state of a qubit can be any linear combination of the $2^n$ possible states. \n",
        "\n",
        "For example: $|a> = 0.1|00> + 0.4|01> + 0.4|10> + 0.1|11>$ for a circuit having 2 qubits. (Notice that the coefficients of each term must sum up to 1)\n",
        "\n",
        "More inforamtion on this notation can be found here: [Dirac Notation](https://docs.microsoft.com/en-us/azure/quantum/concepts-dirac-notation)"
      ],
      "metadata": {
        "id": "RuKlssSQ82NG"
      }
    },
    {
      "cell_type": "code",
      "execution_count": null,
      "metadata": {
        "id": "LooG3h76_4ny"
      },
      "outputs": [],
      "source": [
        "#Importing some initial libraries\n",
        "import numpy as np\n",
        "import cmath\n",
        "import math\n",
        "import random\n",
        "import matplotlib.pyplot as plt"
      ]
    },
    {
      "cell_type": "code",
      "execution_count": null,
      "metadata": {
        "colab": {
          "base_uri": "https://localhost:8080/"
        },
        "id": "n3s8r9Dm9kiV",
        "outputId": "d81f070e-a0c8-4617-f552-acf0f8cbcd89"
      },
      "outputs": [
        {
          "output_type": "execute_result",
          "data": {
            "text/plain": [
              "[(0.31622776601683794, '00'),\n",
              " (0.6324555320336759, '01'),\n",
              " (-0.7071067811865476, '11')]"
            ]
          },
          "metadata": {},
          "execution_count": 4
        }
      ],
      "source": [
        "myState = [(np.sqrt(0.1), '00'),\n",
        "           (np.sqrt(0.4), '01'),\n",
        "           (-np.sqrt(0.5), '11')]\n",
        "myState"
      ]
    },
    {
      "cell_type": "code",
      "execution_count": null,
      "metadata": {
        "id": "pPsaJlZO_339",
        "colab": {
          "base_uri": "https://localhost:8080/"
        },
        "outputId": "c465e06d-7fb2-45b7-f294-ccaacc7660f6"
      },
      "outputs": [
        {
          "output_type": "stream",
          "name": "stdout",
          "text": [
            "0.31622776601683794 |00> + \n",
            "0.6324555320336759 |01> + \n",
            "-0.7071067811865476 |11> + \n"
          ]
        }
      ],
      "source": [
        "def PrettyPrintBinary(myState):\n",
        "  for val, key in myState:\n",
        "    print(val, '|' + key + '> + ')\n",
        "\n",
        "PrettyPrintBinary(myState)"
      ]
    },
    {
      "cell_type": "code",
      "execution_count": null,
      "metadata": {
        "id": "0UvOMxzSAQz2",
        "colab": {
          "base_uri": "https://localhost:8080/"
        },
        "outputId": "7196068c-5352-4220-e44c-889244cc57dd"
      },
      "outputs": [
        {
          "output_type": "stream",
          "name": "stdout",
          "text": [
            "0.31622776601683794 |0> + \n",
            "0.6324555320336759 |1> + \n",
            "-0.7071067811865476 |3> + \n"
          ]
        }
      ],
      "source": [
        "def PrettyPrintInteger(myState):\n",
        "  for val, key in myState:\n",
        "    int_key = int(key, 2)\n",
        "    print(val, '|' + str(int_key) + '> + ')\n",
        "\n",
        "PrettyPrintInteger(myState)"
      ]
    },
    {
      "cell_type": "code",
      "execution_count": null,
      "metadata": {
        "colab": {
          "base_uri": "https://localhost:8080/"
        },
        "id": "DfNxbXByBtuM",
        "outputId": "3f7c9c9b-c724-4a5f-e86e-7d15cb1b2a94"
      },
      "outputs": [
        {
          "output_type": "stream",
          "name": "stdout",
          "text": [
            "Printing in Binary form:\n",
            "0.31622776601683794j |101> + \n",
            "0.7071067811865476 |000> + \n",
            "-0.6324555320336759 |010> + \n",
            "\n",
            "Printing in Integer form:\n",
            "0.31622776601683794j |5> + \n",
            "0.7071067811865476 |0> + \n",
            "-0.6324555320336759 |2> + \n"
          ]
        }
      ],
      "source": [
        "#Testing the functions\n",
        "myState2=[ (np.sqrt(0.1)*1.j, '101'), (np.sqrt(0.5), '000') , (-np.sqrt(0.4), '010' ) ] \n",
        "print(\"Printing in Binary form:\")\n",
        "PrettyPrintBinary(myState2) \n",
        "print()\n",
        "print(\"Printing in Integer form:\")\n",
        "PrettyPrintInteger(myState2)"
      ]
    },
    {
      "cell_type": "code",
      "execution_count": null,
      "metadata": {
        "id": "viE0wj--B-du"
      },
      "outputs": [],
      "source": [
        "def StatetoVec(myState, size):\n",
        "  vector = np.zeros(2**size, dtype = np.complex128)\n",
        "  for val, key in myState:\n",
        "    vector[int(key,2)] = vector[int(key,2)] + val\n",
        "  return vector\n",
        "\n",
        "def VectoState(myVec):\n",
        "  state = []\n",
        "  for i in range(len(myVec)):\n",
        "    key = format(i, 'b')\n",
        "    state.append((myVec[i], key))\n",
        "  return state"
      ]
    },
    {
      "cell_type": "code",
      "execution_count": null,
      "metadata": {
        "colab": {
          "base_uri": "https://localhost:8080/"
        },
        "id": "TBahwlfKC4Eo",
        "outputId": "dc5d5c7f-717a-4b03-ef3b-9f2d79c24864"
      },
      "outputs": [
        {
          "output_type": "stream",
          "name": "stdout",
          "text": [
            "[ 0.31622777+0.j  0.63245553+0.j  0.        +0.j -0.70710678+0.j]\n",
            "[((0.31622776601683794+0j), '0'), ((0.6324555320336759+0j), '1'), (0j, '10'), ((-0.7071067811865476+0j), '11')]\n"
          ]
        }
      ],
      "source": [
        "print(StatetoVec(myState,2))\n",
        "print(VectoState(StatetoVec(myState,2)))"
      ]
    },
    {
      "cell_type": "markdown",
      "source": [
        "Next we want to build a function that lets us compute the tensor product of two states. This will be explained in more detail in the next section. \n",
        "\n",
        "For more information on tensor products: [Tensor Product](https://en.wikipedia.org/wiki/Tensor_product)"
      ],
      "metadata": {
        "id": "61dmJDxeTCzE"
      }
    },
    {
      "cell_type": "code",
      "execution_count": null,
      "metadata": {
        "id": "bf0EB7piiHwd"
      },
      "outputs": [],
      "source": [
        "def tensorMe(matrices):\n",
        "  result = [1]\n",
        "  for i in range(len(matrices)):\n",
        "    result = np.kron(result, matrices[i])\n",
        "  return result"
      ]
    },
    {
      "cell_type": "markdown",
      "metadata": {
        "id": "OuUHiSG3Mr5z"
      },
      "source": [
        "### **Creating the Atomic Gates:**\n",
        "\n",
        "For Quantum Circuits there are many gates that can be constructed to perform various operations. However, there are a few standard gates, called Atomic Gates, out of which any other gate can be constructed. \n",
        "\n",
        "We derive three of these Atomic Gates here, namely the Hadamard Gate, the Phase Gate and the CNOT Gate.\n",
        "\n",
        "More information on these gates can be found here: [Quantum Logic Gate](https://en.wikipedia.org/wiki/Quantum_logic_gate), [Lecture Notes on Quantum Math from CMU](https://www.cs.cmu.edu/~odonnell/quantum15/lecture02.pdf)"
      ]
    },
    {
      "cell_type": "markdown",
      "source": [
        "\n",
        "Gates are defined by what operation they have on a qubit coming into them.\n",
        "For example, the Hadamrd Gate operates under the following mathematical relations:\n",
        "\n",
        "$\\begin{align} |0>  &-> \\frac{1}{\\sqrt{2}} ( |0> + |1> ) \\\\\n",
        "|1>  &-> \\frac{1}{\\sqrt{2}} ( |0> - |1> ) \\end{align}$\n",
        "\n",
        "Thus, in matrix form, this can be represented as,\n",
        "$H = \\frac{1}{\\sqrt{2}}\\begin{pmatrix} \n",
        "    1 & 1 \\\\\n",
        "    1 & -1\n",
        "  \\end{pmatrix}$\n",
        "\n",
        "which is much easier to work with."
      ],
      "metadata": {
        "id": "-dbLZsePmuwv"
      }
    },
    {
      "cell_type": "code",
      "execution_count": null,
      "metadata": {
        "id": "xHQNWPmcG5U7"
      },
      "outputs": [],
      "source": [
        "def HadamardArray(i, k):\n",
        "  # this should apply Hadamard to wire i out of k wires\n",
        "  size= 2**k\n",
        "  myMatrix=np.zeros((size,size), dtype = np.complex128)\n",
        "  matrices = [np.eye(2)]*k\n",
        "  matrices[i] = (1/np.sqrt(2))*np.array([[1, 1], [1, -1]])\n",
        "  myMatrix = tensorMe(matrices)\n",
        "  return myMatrix"
      ]
    },
    {
      "cell_type": "code",
      "execution_count": null,
      "metadata": {
        "id": "latLwAxGimwL",
        "colab": {
          "base_uri": "https://localhost:8080/"
        },
        "outputId": "d948a6ab-5b1a-4da0-ef4d-760f4e3412c2"
      },
      "outputs": [
        {
          "output_type": "execute_result",
          "data": {
            "text/plain": [
              "array([[ 0.70710678,  0.70710678],\n",
              "       [ 0.70710678, -0.70710678]])"
            ]
          },
          "metadata": {},
          "execution_count": 12
        }
      ],
      "source": [
        "#Test\n",
        "HadamardArray(0,1)"
      ]
    },
    {
      "cell_type": "markdown",
      "source": [
        "Similarly, the idea of a phase gate is to rotate the qubit by a certain angle only if it is 1 and do nothing if it is 0. \n",
        "\n",
        "$\\begin{align} |0> &-> |0> \\\\ |1> &-> e^{iθ}|1> \\end{align}$\n",
        "\n",
        "In matrix form this becomes,\n",
        "$H = \\begin{pmatrix} \n",
        "    1 & 1 \\\\\n",
        "    1 & e^{i\\theta}\n",
        "  \\end{pmatrix}$"
      ],
      "metadata": {
        "id": "wqeuGULXr-yo"
      }
    },
    {
      "cell_type": "code",
      "execution_count": null,
      "metadata": {
        "id": "wUVVWwP3mn4o"
      },
      "outputs": [],
      "source": [
        "def PhaseArray(i, k, angle):\n",
        "  # this should apply Hadamard to wire i out of k wires\n",
        "  size= 2**k\n",
        "  myMatrix=np.zeros((size,size), dtype = np.complex128)\n",
        "  matrices = [np.eye(2)]*k\n",
        "  matrices[i] = np.array([[1, 0], [0, cmath.exp(angle*1.j)]])\n",
        "  myMatrix = tensorMe(matrices)\n",
        "  return myMatrix"
      ]
    },
    {
      "cell_type": "code",
      "execution_count": null,
      "metadata": {
        "id": "c0HAbqjB454p",
        "colab": {
          "base_uri": "https://localhost:8080/"
        },
        "outputId": "61dc37a7-b6a4-428f-820f-89b739b6c3e1"
      },
      "outputs": [
        {
          "output_type": "execute_result",
          "data": {
            "text/plain": [
              "array([[1.       +0.j        , 0.       +0.j        ],\n",
              "       [0.       +0.j        , 0.9004471+0.43496553j]])"
            ]
          },
          "metadata": {},
          "execution_count": 14
        }
      ],
      "source": [
        "#Test\n",
        "PhaseArray(0,1, 0.45)"
      ]
    },
    {
      "cell_type": "markdown",
      "source": [
        "Lastly, the CNOT Gate operates on two wires. It's basic principle is that if the control wire is 0, the target wire stays as it is, while if the control wire is 1, it will perform a NOT operation on the target wire. Thus, nothing changes in the control wire and nothing changes in the target wire if the control wire is |0>.\n",
        "\n",
        "For the case when the control wire is above the target wire, we have:\n",
        "\n",
        "$\\begin{align} \n",
        "  |00> &-> |00> \\\\\n",
        "  |01> &-> |01> \\\\\n",
        "  |10> &-> |11> \\\\\n",
        "  |11> &-> |10>\n",
        "\\end{align}$\n",
        "\n",
        "\n",
        "In matrix form,\n",
        "$H = \\begin{pmatrix} \n",
        "  1 & 0 & 0 & 0 \\\\\n",
        "  0 & 1 & 0 & 0 \\\\\n",
        "  0 & 0 & 0 & 1 \\\\\n",
        "  0 & 0 & 1 & 0\n",
        "\\end{pmatrix}$\n",
        "\n",
        "\n",
        "(*Note: Since the CNOT gate operates on two wires, the dimensions of the matrix have to be atleast 4x4, whereas gates that operate only on one wire are 2x2*)"
      ],
      "metadata": {
        "id": "M3erFzY7NgjZ"
      }
    },
    {
      "cell_type": "code",
      "execution_count": null,
      "metadata": {
        "id": "2azK3pjz49BW"
      },
      "outputs": [],
      "source": [
        "def CNOTArray(controlWire,otherWire,totalWires):\n",
        "  size = 2**totalWires\n",
        "  myMatrix = np.zeros((size,size), dtype = np.complex128)\n",
        "  \n",
        "  matrices_control = [np.eye(2)]*totalWires\n",
        "  matrices_X = [np.eye(2)]*totalWires\n",
        "\n",
        "  matrices_control[controlWire] = np.array([[1,0],[0,0]])\n",
        "  \n",
        "  matrices_X[controlWire] = np.array([[0,0],[0,1]])\n",
        "  matrices_X[otherWire] = np.array([[0,1],[1,0]])\n",
        "\n",
        "  myMatrix = tensorMe(matrices_control) + tensorMe(matrices_X)\n",
        "\n",
        "  return myMatrix"
      ]
    },
    {
      "cell_type": "code",
      "execution_count": null,
      "metadata": {
        "id": "OUIvVbYjg0Vr",
        "colab": {
          "base_uri": "https://localhost:8080/"
        },
        "outputId": "6ede654e-b4b7-45e3-9490-1286f888de38"
      },
      "outputs": [
        {
          "output_type": "execute_result",
          "data": {
            "text/plain": [
              "array([[1., 0., 0., 0.],\n",
              "       [0., 1., 0., 0.],\n",
              "       [0., 0., 0., 1.],\n",
              "       [0., 0., 1., 0.]])"
            ]
          },
          "metadata": {},
          "execution_count": 16
        }
      ],
      "source": [
        "#Test\n",
        "CNOTArray(0,1,2)"
      ]
    },
    {
      "cell_type": "markdown",
      "source": [
        "### **Unitary Matrices**:\n",
        "\n",
        "Next, we define what is called a Unitary matrix that represents all the gates on a quantum circuit as one giant matrix acting on the output and giving us the output. This way of representing gates as matrices makes it easy to carry out calculations when multiple qubits are involved."
      ],
      "metadata": {
        "id": "RO1ZYgEimIYP"
      }
    },
    {
      "cell_type": "code",
      "execution_count": null,
      "metadata": {
        "id": "d0gSf8iJfKcc"
      },
      "outputs": [],
      "source": [
        "def constructUnitary(matrices, size):\n",
        "  result = np.eye(2**size)\n",
        "  for matrix in matrices:\n",
        "    result = matrix @ result\n",
        "    \n",
        "  return result"
      ]
    },
    {
      "cell_type": "code",
      "execution_count": null,
      "metadata": {
        "id": "pnLuZ76VhG35"
      },
      "outputs": [],
      "source": [
        "def createGates(Input, size):\n",
        "  #List to contain all the gates that form U\n",
        "  gates = []\n",
        "  measure = False\n",
        "  for input in Input:\n",
        "    #Phase Gate\n",
        "    if(input[0] == 'P'):\n",
        "      gates.append(PhaseArray(int(input[1]), size, float(input[2])))\n",
        "\n",
        "    #Hadamard Gate\n",
        "    if(input[0] == 'H'):\n",
        "      gates.append(HadamardArray(int(input[1]), size))\n",
        "\n",
        "    #CNOT Gate\n",
        "    if(input[0] == 'CNOT'):\n",
        "      gates.append(CNOTArray(int(input[1]), int(input[2]), size))\n",
        "\n",
        "    if(input[0] == 'MEASURE'):\n",
        "      measure = True\n",
        "  return gates, measure"
      ]
    },
    {
      "cell_type": "code",
      "execution_count": null,
      "metadata": {
        "id": "PbjQdZMUdFCW"
      },
      "outputs": [],
      "source": [
        "def ReadInput(fileName):\n",
        "        myInput_lines=open(fileName).readlines()\n",
        "        myInput=[]\n",
        "        numberOfWires=int(myInput_lines[0])\n",
        "        for line in myInput_lines[1:]:\n",
        "            myInput.append(line.split())\n",
        "        return (numberOfWires,myInput)"
      ]
    },
    {
      "cell_type": "code",
      "execution_count": null,
      "metadata": {
        "id": "4cs0amV5f07l"
      },
      "outputs": [],
      "source": [
        "def count_elements(seq) -> dict:\n",
        "     hist = {}\n",
        "     for i in seq:\n",
        "         hist[i] = hist.get(i, 0) + 1\n",
        "     return hist"
      ]
    },
    {
      "cell_type": "code",
      "execution_count": null,
      "metadata": {
        "id": "T-78a5Da7GFM"
      },
      "outputs": [],
      "source": [
        "def Measure(output):\n",
        "  size = len(output)\n",
        "  binaries = []\n",
        "  for i in range(size):\n",
        "    binaries.append(format(i, 'b'))\n",
        "  \n",
        "  weight = []\n",
        "  for val in output:\n",
        "    weight.append(abs(val)**2)\n",
        "\n",
        "  result = [random.choices(binaries, weights = weight)[0] for x in range(100)]\n",
        "  \n",
        "  histogram = count_elements(result)\n",
        "  #print(histogram)\n",
        "  int_keys = [int(key,2) for key in list(histogram.keys())]\n",
        "  plt.bar(int_keys, list(histogram.values()), width = 0.4)\n",
        "\n"
      ]
    },
    {
      "cell_type": "code",
      "execution_count": null,
      "metadata": {
        "id": "QsGx2CD5I0bf"
      },
      "outputs": [],
      "source": [
        "#Test\n",
        "Measure(np.array([np.sqrt(0.5),np.sqrt(0.2),np.sqrt(0.1),np.sqrt(0.1)]))"
      ]
    },
    {
      "cell_type": "code",
      "execution_count": null,
      "metadata": {
        "id": "2kqO_z_l0fxA"
      },
      "outputs": [],
      "source": [
        "def InitialiseFromFile(filename):\n",
        "  myInputlines = open(filename).readlines()\n",
        "  input = []\n",
        "  for line in myInputlines:\n",
        "    input.append(line.split())\n",
        "  \n",
        "  input_size = len(myInputlines)\n",
        "  input_vector = np.zeros(input_size)\n",
        "  input_vector = [complex(float(input[i][0]), float(input[i][1])) for i in range(input_size)]\n",
        "  \n",
        "  return input_vector"
      ]
    },
    {
      "cell_type": "code",
      "execution_count": null,
      "metadata": {
        "id": "okcUn7i8zgHp"
      },
      "outputs": [],
      "source": [
        "#Reading initstate from a file ('input.circuit')\n",
        "def InitState(line):\n",
        "  initial_vector = []\n",
        "  if(line[0] == 'INITSTATE'):\n",
        "    if(line[1] == 'FILE'):\n",
        "      initial_vector = InitialiseFromFile(line[2])\n",
        "      return initial_vector\n",
        "      \n",
        "    # if(line[1] == 'BASIS'):\n",
        "      # InitialiseFromState(line[2])\n",
        "  \n",
        "  return initial_vector"
      ]
    },
    {
      "cell_type": "code",
      "execution_count": null,
      "metadata": {
        "id": "EZtC3M-v15ki"
      },
      "outputs": [],
      "source": [
        "#Test\n",
        "x, lines = ReadInput('input.circuit')\n",
        "vector = InitState(lines[0])\n",
        "print(vector)"
      ]
    },
    {
      "cell_type": "code",
      "execution_count": null,
      "metadata": {
        "id": "peGmIRGlV-gT"
      },
      "outputs": [],
      "source": [
        "# import scipy.sparse\n",
        "# print(scipy.sparse.csr_matrix(scipy.sparse.identity(2,dtype='complex')))\n"
      ]
    },
    {
      "cell_type": "markdown",
      "metadata": {
        "id": "NXim_wKSbBVH"
      },
      "source": [
        "## **Simulator Ia**\n"
      ]
    },
    {
      "cell_type": "code",
      "source": [
        "def SimulatorIa(gates, size, inputstate):\n",
        "  U = constructUnitary(gates, size)\n",
        "\n",
        "  result = np.copy(inputstate)\n",
        "  output = U@result\n",
        "\n",
        "  return output"
      ],
      "metadata": {
        "id": "54YkINDfaU2A"
      },
      "execution_count": null,
      "outputs": []
    },
    {
      "cell_type": "code",
      "execution_count": null,
      "metadata": {
        "id": "YljRVwawfNYG"
      },
      "outputs": [],
      "source": [
        "Input1_wires, Input1 = ReadInput(\"rand.circuit\")\n",
        "if(Input1[0][0] == 'INITSTATE'):\n",
        "  InitState(Input1[0])\n",
        "Input1_gates, measure1 = createGates(Input1, Input1_wires)"
      ]
    },
    {
      "cell_type": "code",
      "execution_count": null,
      "metadata": {
        "id": "0MFgu5WemWKf"
      },
      "outputs": [],
      "source": [
        "#Default input state\n",
        "default_inputvec = np.zeros(2**Input1_wires)\n",
        "default_inputvec[0] = 1\n",
        "\n",
        "outputvec1 = SimulatorIa(Input1_gates, Input1_wires, default_inputvec)\n",
        "print(outputvec1)"
      ]
    },
    {
      "cell_type": "code",
      "execution_count": null,
      "metadata": {
        "id": "yxjUdOMag6Z9"
      },
      "outputs": [],
      "source": [
        "#Printing nicely\n",
        "if(measure1):\n",
        "  Measure(outputvec1)\n",
        "else:\n",
        "  outputstate1 = VectoState(outputvec1)\n",
        "  PrettyPrintInteger(outputstate1)"
      ]
    },
    {
      "cell_type": "code",
      "execution_count": null,
      "metadata": {
        "id": "ZSsxiZH2cIU6"
      },
      "outputs": [],
      "source": [
        "Input2_wires, Input2 = ReadInput(\"measure.circuit\")\n",
        "Input2_gates, measure2 = createGates(Input2, Input2_wires)"
      ]
    },
    {
      "cell_type": "code",
      "execution_count": null,
      "metadata": {
        "id": "Y5UuEpl274zT"
      },
      "outputs": [],
      "source": [
        "#Default input state\n",
        "default_inputvec = np.zeros(2**Input2_wires)\n",
        "default_inputvec[1] = 1\n",
        "\n",
        "outputvec2 = SimulatorIa(Input2_gates, Input2_wires, default_inputvec)\n",
        "print(outputvec2)"
      ]
    },
    {
      "cell_type": "code",
      "execution_count": null,
      "metadata": {
        "colab": {
          "base_uri": "https://localhost:8080/",
          "height": 265
        },
        "id": "MvNfQilU8aqR",
        "outputId": "bc1c4bf1-48f5-4d9d-dc9d-bb6b22d9ab71"
      },
      "outputs": [
        {
          "output_type": "display_data",
          "data": {
            "text/plain": [
              "<Figure size 432x288 with 1 Axes>"
            ],
            "image/png": "[encoded data removed]"
          },
          "metadata": {
            "needs_background": "light"
          }
        }
      ],
      "source": [
        "#Printing nicely\n",
        "if(measure2):\n",
        "  Measure(outputvec2)\n",
        "else:\n",
        "  outputstate2 = VectoState(outputvec2)\n",
        "  PrettyPrintInteger(outputstate2)"
      ]
    },
    {
      "cell_type": "code",
      "execution_count": null,
      "metadata": {
        "id": "_EQCKWiNKZD8"
      },
      "outputs": [],
      "source": [
        "#Code for third input: input.circuit\n",
        "Input3_wires, Input3 = ReadInput(\"input.circuit\")\n",
        "input_vec3 = np.zeros(2**Input3_wires)\n",
        "\n",
        "if (Input3[0][0] == 'INITSTATE'):\n",
        "  input_vec3 = InitState(Input3[0])\n",
        "\n",
        "# print(input_vec)\n",
        "Input3_gates, measure3 = createGates(Input3[1:], Input3_wires)"
      ]
    },
    {
      "cell_type": "code",
      "execution_count": null,
      "metadata": {
        "id": "bx-zjtHBCblM"
      },
      "outputs": [],
      "source": [
        "output_vec3 = SimulatorIa(Input3_gates, Input3_wires, input_vec3)"
      ]
    },
    {
      "cell_type": "code",
      "execution_count": null,
      "metadata": {
        "colab": {
          "base_uri": "https://localhost:8080/"
        },
        "id": "kr09HxhYCLOD",
        "outputId": "38f5957d-7549-439d-8d93-92329f11abe7"
      },
      "outputs": [
        {
          "output_type": "stream",
          "name": "stdout",
          "text": [
            "(0.15409919900412564-0.039023142873475684j) |0> + \n",
            "(0.04895105577891018-0.03001851549580138j) |1> + \n",
            "(-0.021319813075354997+0.0877478741409022j) |2> + \n",
            "(-0.11160918928703435-0.23332812293116628j) |3> + \n",
            "(-0.033901258348144725-0.009674003342578182j) |4> + \n",
            "(-0.01674606371011169-0.13026586952891345j) |5> + \n",
            "(-0.19592098529914298+0.009885177232733897j) |6> + \n",
            "(-0.09796097290238419+0.013475996833847575j) |7> + \n",
            "(-0.18082511268453239+0.014381045617727559j) |8> + \n",
            "(0.05382740960549372-0.06863464649457768j) |9> + \n",
            "(0.0010329113421168531-0.0034553374325647125j) |10> + \n",
            "(-0.02154097912106914+0.01744613535918276j) |11> + \n",
            "(-0.007195884290384046+0.15958103150789757j) |12> + \n",
            "(-0.22309649987486374+0.07462898841821952j) |13> + \n",
            "(-0.037893779801458916+0.005859520326027604j) |14> + \n",
            "(0.07390340399259634-0.05074229743090873j) |15> + \n",
            "(-0.1480464106395853+0.08745635006745285j) |16> + \n",
            "(-0.06328890454391892+0.25662035423302676j) |17> + \n",
            "(0.11691184507936053+0.013808709741378381j) |18> + \n",
            "(-0.026676461513949257-0.004062838923814456j) |19> + \n",
            "(0.21923132553221586-0.21304182634262625j) |20> + \n",
            "(-0.048941996178234824-0.1163550815868404j) |21> + \n",
            "(-0.14793915437213986-0.10481145122901084j) |22> + \n",
            "(0.22316757432809142+0.050834632967096935j) |23> + \n",
            "(-0.13963947717339312-0.23720129948549137j) |24> + \n",
            "(0.18475071104180585-0.0051483363202945165j) |25> + \n",
            "(-0.26322209014194203-0.06560050732512161j) |26> + \n",
            "(0.1751967845487979-0.02010633083183434j) |27> + \n",
            "(0.11220121663454638+0.0012498444406551235j) |28> + \n",
            "(0.024190828060211986-0.12445058311966191j) |29> + \n",
            "(-0.20830028473401133+0.07702445377195208j) |30> + \n",
            "(0.05476980548434894+0.30613043958548175j) |31> + \n"
          ]
        }
      ],
      "source": [
        "#Printing nicely\n",
        "if(measure3):\n",
        "  Measure(output_vec3)\n",
        "else:\n",
        "  outputstate3 = VectoState(output_vec3)\n",
        "  PrettyPrintInteger(outputstate3)"
      ]
    },
    {
      "cell_type": "markdown",
      "metadata": {
        "id": "vBz8-6nrbK4n"
      },
      "source": [
        "## **Simulator Ib**"
      ]
    },
    {
      "cell_type": "code",
      "execution_count": null,
      "metadata": {
        "id": "mSGHIc05bO_y"
      },
      "outputs": [],
      "source": [
        "#We do not construct a unitary matrix but instead just calculate the output state after every gate:\n",
        "def SimulatorIb(gates,size, inputstate):\n",
        "  outputstate = np.zeros(2**size, dtype = np.complex128)\n",
        "  result = inputstate\n",
        "\n",
        "  for gate in gates:\n",
        "    result = gate @ result\n",
        "\n",
        "  outputstate = result\n",
        "  return outputstate\n"
      ]
    },
    {
      "cell_type": "code",
      "execution_count": null,
      "metadata": {
        "colab": {
          "base_uri": "https://localhost:8080/"
        },
        "id": "eWIWo3R7cKv4",
        "outputId": "9241b6d3-eaba-4009-920e-f8483b6d08bf"
      },
      "outputs": [
        {
          "output_type": "stream",
          "name": "stdout",
          "text": [
            "(0.14565796004368065+0.11348294333323078j) |0> + \n",
            "(0.04309755094683273-0.12184596055817097j) |1> + \n",
            "(-0.0001782615750044818+0.08005459383129254j) |2> + \n",
            "(0.05035629868818652-0.007282489799443278j) |3> + \n",
            "(0.07232672559216342-0.022619270303906338j) |4> + \n",
            "(-0.03444784817538653-0.04222821092998375j) |5> + \n",
            "(0.05394795241192348+0.0089543810281979j) |6> + \n",
            "(0.0017934458673294204-0.026754015134267277j) |7> + \n",
            "(0.13464628848368854-0.1256031965657913j) |8> + \n",
            "(-0.1040997208563847-0.06762381241864739j) |9> + \n",
            "(0.010652323173449761+0.0709456424309128j) |10> + \n",
            "(0.0315367895599324-0.035377797720121604j) |11> + \n",
            "(0.007920474449196606+0.2978985122057254j) |12> + \n",
            "(0.19608126814268637-0.05835344971980608j) |13> + \n",
            "(-0.11306530101030747-0.022843082802562524j) |14> + \n",
            "(0.025670653436355967+0.07563944999428003j) |15> + \n",
            "(0.0014746900019901594-0.0364590321264683j) |16> + \n",
            "(-0.012673925486559915+0.005514371048822488j) |17> + \n",
            "(-0.08205100536822746+0.015513990179495498j) |18> + \n",
            "(0.016011739671690253+0.022594139337382337j) |19> + \n",
            "(-0.17165615534648052+0.3669221138055029j) |20> + \n",
            "(0.2774713578139311+0.042329407228946035j) |21> + \n",
            "(-0.14693154505266529-0.04361461090635179j) |22> + \n",
            "(0.007401893528164774+0.10788583514551449j) |23> + \n",
            "(-0.44267963957731865-0.08917051669782346j) |24> + \n",
            "(0.03432507377519419+0.3179714507952509j) |25> + \n",
            "(-0.05478857583103476-0.21473166615430514j) |26> + \n",
            "(-0.12098548283141337+0.06544840304773138j) |27> + \n",
            "(-0.1814433697228691-0.07802773562153234j) |28> + \n",
            "(-0.005850147569994773+0.12703336730376014j) |29> + \n",
            "(-0.05781065216328527+0.010123356493809615j) |30> + \n",
            "(-0.011813081237055326+0.020044171373334318j) |31> + \n"
          ]
        }
      ],
      "source": [
        "#For rand.circuit\n",
        "inputstate = np.zeros(2**Input1_wires)\n",
        "inputstate[0] = 1\n",
        "output1_vec = SimulatorIb(Input1_gates,Input1_wires, inputstate)\n",
        "\n",
        "if(measure1):\n",
        "  print(Measure(output1_vec))\n",
        "else:\n",
        "  outputstate1 = VectoState(outputvec1)\n",
        "  PrettyPrintInteger(outputstate1)"
      ]
    },
    {
      "cell_type": "code",
      "execution_count": null,
      "metadata": {
        "id": "svctv6xJdBWp"
      },
      "outputs": [],
      "source": [
        "#For measure.circuit\n",
        "inputstate2 = np.zeros(2**Input2_wires)\n",
        "inputstate2[0] = 1\n",
        "output2_vec = SimulatorIb(Input2_gates, Input2_wires, inputstate2)"
      ]
    },
    {
      "cell_type": "code",
      "execution_count": null,
      "metadata": {
        "colab": {
          "base_uri": "https://localhost:8080/",
          "height": 265
        },
        "id": "bMRLNKvcy_TJ",
        "outputId": "b543dae6-d93a-45a7-b1fa-0bccc59b17e0"
      },
      "outputs": [
        {
          "output_type": "display_data",
          "data": {
            "text/plain": [
              "<Figure size 432x288 with 1 Axes>"
            ],
            "image/png": "[encoded data removed]"
          },
          "metadata": {
            "needs_background": "light"
          }
        }
      ],
      "source": [
        "if(measure2):\n",
        "  Measure(output2_vec)\n",
        "else:\n",
        "  outputstate2 = VectoState(outputvec2)\n",
        "  PrettyPrintInteger(outputstate2)"
      ]
    },
    {
      "cell_type": "code",
      "execution_count": null,
      "metadata": {
        "colab": {
          "base_uri": "https://localhost:8080/"
        },
        "id": "SgKXzNmqMaKq",
        "outputId": "ef2d452e-089b-4e21-ee95-6d60a5ba5450"
      },
      "outputs": [
        {
          "output_type": "stream",
          "name": "stdout",
          "text": [
            "(0.15409919900412564-0.039023142873475684j) |0> + \n",
            "(0.04895105577891018-0.03001851549580138j) |1> + \n",
            "(-0.021319813075354997+0.0877478741409022j) |2> + \n",
            "(-0.11160918928703435-0.23332812293116628j) |3> + \n",
            "(-0.033901258348144725-0.009674003342578182j) |4> + \n",
            "(-0.01674606371011169-0.13026586952891345j) |5> + \n",
            "(-0.19592098529914298+0.009885177232733897j) |6> + \n",
            "(-0.09796097290238419+0.013475996833847575j) |7> + \n",
            "(-0.18082511268453239+0.014381045617727559j) |8> + \n",
            "(0.05382740960549372-0.06863464649457768j) |9> + \n",
            "(0.0010329113421168531-0.0034553374325647125j) |10> + \n",
            "(-0.02154097912106914+0.01744613535918276j) |11> + \n",
            "(-0.007195884290384046+0.15958103150789757j) |12> + \n",
            "(-0.22309649987486374+0.07462898841821952j) |13> + \n",
            "(-0.037893779801458916+0.005859520326027604j) |14> + \n",
            "(0.07390340399259634-0.05074229743090873j) |15> + \n",
            "(-0.1480464106395853+0.08745635006745285j) |16> + \n",
            "(-0.06328890454391892+0.25662035423302676j) |17> + \n",
            "(0.11691184507936053+0.013808709741378381j) |18> + \n",
            "(-0.026676461513949257-0.004062838923814456j) |19> + \n",
            "(0.21923132553221586-0.21304182634262625j) |20> + \n",
            "(-0.048941996178234824-0.1163550815868404j) |21> + \n",
            "(-0.14793915437213986-0.10481145122901084j) |22> + \n",
            "(0.22316757432809142+0.050834632967096935j) |23> + \n",
            "(-0.13963947717339312-0.23720129948549137j) |24> + \n",
            "(0.18475071104180585-0.0051483363202945165j) |25> + \n",
            "(-0.26322209014194203-0.06560050732512161j) |26> + \n",
            "(0.1751967845487979-0.02010633083183434j) |27> + \n",
            "(0.11220121663454638+0.0012498444406551235j) |28> + \n",
            "(0.024190828060211986-0.12445058311966191j) |29> + \n",
            "(-0.20830028473401133+0.07702445377195208j) |30> + \n",
            "(0.05476980548434894+0.30613043958548175j) |31> + \n"
          ]
        }
      ],
      "source": [
        "#For input.circuit\n",
        "output3_vec = SimulatorIb(Input3_gates, Input3_wires, input_vec3)\n",
        "\n",
        "#Printing nicely\n",
        "if(measure3):\n",
        "  Measure(output_vec3)\n",
        "else:\n",
        "  outputstate3 = VectoState(output_vec3)\n",
        "  PrettyPrintInteger(outputstate3)"
      ]
    },
    {
      "cell_type": "markdown",
      "metadata": {
        "id": "GZjoTFuUOCau"
      },
      "source": [
        "## **Simulator Ic**"
      ]
    },
    {
      "cell_type": "code",
      "execution_count": null,
      "metadata": {
        "id": "xfbYcdV8EHA9"
      },
      "outputs": [],
      "source": [
        "import scipy.sparse"
      ]
    },
    {
      "cell_type": "code",
      "execution_count": null,
      "metadata": {
        "id": "5_ISeQkGOGWC"
      },
      "outputs": [],
      "source": [
        "def SimulatorIc(gates, size, Inputstate):\n",
        "  sparse_gates = [scipy.sparse.csr_matrix(gate) for gate in gates]\n",
        "  outputstate = scipy.sparse.csr_matrix(np.zeros(2**size, dtype = np.complex128))\n",
        "  # outputstate.tocsr()\n",
        "  inputstate = scipy.sparse.csr_matrix(Inputstate)\n",
        "  result = inputstate\n",
        "  for sgate in sparse_gates:\n",
        "    result = sgate.multiply(result)\n",
        "      \n",
        "  return outputstate"
      ]
    },
    {
      "cell_type": "code",
      "execution_count": null,
      "metadata": {
        "colab": {
          "base_uri": "https://localhost:8080/"
        },
        "id": "5sJSPaqoWmo3",
        "outputId": "138c52b1-9d80-4431-cf0e-92db399c1309"
      },
      "outputs": [
        {
          "output_type": "stream",
          "name": "stdout",
          "text": [
            "(0.14565796004368065+0.11348294333323078j) |0> + \n",
            "(0.04309755094683273-0.12184596055817097j) |1> + \n",
            "(-0.0001782615750044818+0.08005459383129254j) |2> + \n",
            "(0.05035629868818652-0.007282489799443278j) |3> + \n",
            "(0.07232672559216342-0.022619270303906338j) |4> + \n",
            "(-0.03444784817538653-0.04222821092998375j) |5> + \n",
            "(0.05394795241192348+0.0089543810281979j) |6> + \n",
            "(0.0017934458673294204-0.026754015134267277j) |7> + \n",
            "(0.13464628848368854-0.1256031965657913j) |8> + \n",
            "(-0.1040997208563847-0.06762381241864739j) |9> + \n",
            "(0.010652323173449761+0.0709456424309128j) |10> + \n",
            "(0.0315367895599324-0.035377797720121604j) |11> + \n",
            "(0.007920474449196606+0.2978985122057254j) |12> + \n",
            "(0.19608126814268637-0.05835344971980608j) |13> + \n",
            "(-0.11306530101030747-0.022843082802562524j) |14> + \n",
            "(0.025670653436355967+0.07563944999428003j) |15> + \n",
            "(0.0014746900019901594-0.0364590321264683j) |16> + \n",
            "(-0.012673925486559915+0.005514371048822488j) |17> + \n",
            "(-0.08205100536822746+0.015513990179495498j) |18> + \n",
            "(0.016011739671690253+0.022594139337382337j) |19> + \n",
            "(-0.17165615534648052+0.3669221138055029j) |20> + \n",
            "(0.2774713578139311+0.042329407228946035j) |21> + \n",
            "(-0.14693154505266529-0.04361461090635179j) |22> + \n",
            "(0.007401893528164774+0.10788583514551449j) |23> + \n",
            "(-0.44267963957731865-0.08917051669782346j) |24> + \n",
            "(0.03432507377519419+0.3179714507952509j) |25> + \n",
            "(-0.05478857583103476-0.21473166615430514j) |26> + \n",
            "(-0.12098548283141337+0.06544840304773138j) |27> + \n",
            "(-0.1814433697228691-0.07802773562153234j) |28> + \n",
            "(-0.005850147569994773+0.12703336730376014j) |29> + \n",
            "(-0.05781065216328527+0.010123356493809615j) |30> + \n",
            "(-0.011813081237055326+0.020044171373334318j) |31> + \n"
          ]
        }
      ],
      "source": [
        "#For rand.circuit\n",
        "inputstate = np.zeros(2**Input1_wires)\n",
        "inputstate[0] = 1\n",
        "output1_vec = SimulatorIc(Input1_gates, Input1_wires, inputstate)\n",
        "\n",
        "if(measure1):\n",
        "  print(Measure(output1_vec))\n",
        "else:\n",
        "  outputstate1 = VectoState(outputvec1)\n",
        "  PrettyPrintInteger(outputstate1)"
      ]
    },
    {
      "cell_type": "code",
      "execution_count": null,
      "metadata": {
        "id": "IB01_lHuYlOv"
      },
      "outputs": [],
      "source": [
        "#For measure.circuit\n",
        "inputstate2 = np.zeros(2**Input2_wires)\n",
        "inputstate2[0] = 1\n",
        "output2_vec = SimulatorIc(Input2_gates, Input2_wires, inputstate2)"
      ]
    },
    {
      "cell_type": "code",
      "execution_count": null,
      "metadata": {
        "id": "xR6mUT1pYpFu"
      },
      "outputs": [],
      "source": [
        "if(measure2):\n",
        "  Measure(output2_vec)\n",
        "else:\n",
        "  outputstate2 = VectoState(outputvec2)\n",
        "  PrettyPrintInteger(outputstate2)"
      ]
    },
    {
      "cell_type": "code",
      "execution_count": null,
      "metadata": {
        "colab": {
          "base_uri": "https://localhost:8080/"
        },
        "id": "ZRjTIkMxZBvx",
        "outputId": "7f0de1aa-d9e2-472e-c35a-090f1885bf44"
      },
      "outputs": [
        {
          "output_type": "stream",
          "name": "stdout",
          "text": [
            "(0.15409919900412564-0.039023142873475684j) |0> + \n",
            "(0.04895105577891018-0.03001851549580138j) |1> + \n",
            "(-0.021319813075354997+0.0877478741409022j) |2> + \n",
            "(-0.11160918928703435-0.23332812293116628j) |3> + \n",
            "(-0.033901258348144725-0.009674003342578182j) |4> + \n",
            "(-0.01674606371011169-0.13026586952891345j) |5> + \n",
            "(-0.19592098529914298+0.009885177232733897j) |6> + \n",
            "(-0.09796097290238419+0.013475996833847575j) |7> + \n",
            "(-0.18082511268453239+0.014381045617727559j) |8> + \n",
            "(0.05382740960549372-0.06863464649457768j) |9> + \n",
            "(0.0010329113421168531-0.0034553374325647125j) |10> + \n",
            "(-0.02154097912106914+0.01744613535918276j) |11> + \n",
            "(-0.007195884290384046+0.15958103150789757j) |12> + \n",
            "(-0.22309649987486374+0.07462898841821952j) |13> + \n",
            "(-0.037893779801458916+0.005859520326027604j) |14> + \n",
            "(0.07390340399259634-0.05074229743090873j) |15> + \n",
            "(-0.1480464106395853+0.08745635006745285j) |16> + \n",
            "(-0.06328890454391892+0.25662035423302676j) |17> + \n",
            "(0.11691184507936053+0.013808709741378381j) |18> + \n",
            "(-0.026676461513949257-0.004062838923814456j) |19> + \n",
            "(0.21923132553221586-0.21304182634262625j) |20> + \n",
            "(-0.048941996178234824-0.1163550815868404j) |21> + \n",
            "(-0.14793915437213986-0.10481145122901084j) |22> + \n",
            "(0.22316757432809142+0.050834632967096935j) |23> + \n",
            "(-0.13963947717339312-0.23720129948549137j) |24> + \n",
            "(0.18475071104180585-0.0051483363202945165j) |25> + \n",
            "(-0.26322209014194203-0.06560050732512161j) |26> + \n",
            "(0.1751967845487979-0.02010633083183434j) |27> + \n",
            "(0.11220121663454638+0.0012498444406551235j) |28> + \n",
            "(0.024190828060211986-0.12445058311966191j) |29> + \n",
            "(-0.20830028473401133+0.07702445377195208j) |30> + \n",
            "(0.05476980548434894+0.30613043958548175j) |31> + \n"
          ]
        }
      ],
      "source": [
        "#For input.circuit\n",
        "output3_vec = SimulatorIc(Input3_gates, Input3_wires, input_vec3)\n",
        "\n",
        "#Printing nicely\n",
        "if(measure3):\n",
        "  Measure(output_vec3)\n",
        "else:\n",
        "  outputstate3 = VectoState(output_vec3)\n",
        "  PrettyPrintInteger(outputstate3)"
      ]
    },
    {
      "cell_type": "markdown",
      "metadata": {
        "id": "jD76ZcgAgBp8"
      },
      "source": [
        "### **Comparing Time and RAM Results**"
      ]
    },
    {
      "cell_type": "code",
      "execution_count": null,
      "metadata": {
        "id": "10npQH74Zhrv"
      },
      "outputs": [],
      "source": [
        "def randomCircuitGenerator(n):\n",
        "  circuit = []\n",
        "\n",
        "  for i in range(10):\n",
        "    gate = np.random.choice(['H', 'P', 'CNOT'])\n",
        "    if(gate == 'H'):\n",
        "      circuit.append(['H', np.random.randint(n), n])\n",
        "    if(gate == 'P'):\n",
        "      circuit.append(['P', np.random.randint(n), n, np.pi/2])\n",
        "    if(gate == 'CNOT'):\n",
        "      circuit.append(['CNOT', np.random.randint(n), n-2, n])\n",
        "\n",
        "  return circuit"
      ]
    },
    {
      "cell_type": "code",
      "execution_count": null,
      "metadata": {
        "id": "lEWMfEDFatjo"
      },
      "outputs": [],
      "source": [
        "#Inputs\n",
        "input6 = randomCircuitGenerator(6)\n",
        "input7 = randomCircuitGenerator(7)\n",
        "input8 = randomCircuitGenerator(8)\n",
        "input9 = randomCircuitGenerator(9)\n",
        "input10 = randomCircuitGenerator(10)\n",
        "input11 = randomCircuitGenerator(11)\n",
        "input12 = randomCircuitGenerator(12)\n",
        "# input13 = randomCircuitGenerator(13)\n",
        "\n",
        "#Gates\n",
        "# gates6, measure6 = createGates(input6, 6)\n",
        "# gates7, measure7 = createGates(input7, 7)\n",
        "# gates8, measure8 = createGates(input8, 8)\n",
        "# gates9, measure9 = createGates(input9, 9)\n",
        "# gates10, measure10 = createGates(input10, 10)\n",
        "# gates11, measure11 = createGates(input11, 11)\n",
        "# gates12, measure12 = createGates(input12, 12)\n",
        "# gates13, measure13 = createGates(input13, 13)\n",
        "\n",
        "#Input vectors\n",
        "# in6 = np.zeros(2**6, dtype = np.complex128)\n",
        "# in6[0] = 1\n",
        "# in7 = np.zeros(2**7, dtype = np.complex128)\n",
        "# in7[0] = 1\n",
        "# in8 = np.zeros(2**8, dtype = np.complex128)\n",
        "# in8[0] = 1\n",
        "# in9 = np.zeros(2**9, dtype = np.complex128)\n",
        "# in9[0] = 1\n",
        "# in10 = np.zeros(2**10, dtype = np.complex128)\n",
        "# in10[0] = 1\n",
        "# in11 = np.zeros(2**11, dtype = np.complex128)\n",
        "# in11[0] = 1\n",
        "# in12 = np.zeros(2**12, dtype = np.complex128)\n",
        "# in12[0] = 1\n",
        "# in13 = np.zeros(2**13, dtype = np.complex128)\n",
        "# in13[0] = 1"
      ]
    },
    {
      "cell_type": "code",
      "execution_count": null,
      "metadata": {
        "id": "9YvIyXL3ff_t"
      },
      "outputs": [],
      "source": [
        "import time"
      ]
    },
    {
      "cell_type": "markdown",
      "source": [
        "### **Graphing runtime vs qubits**"
      ],
      "metadata": {
        "id": "_KToTmyYbd3l"
      }
    },
    {
      "cell_type": "code",
      "execution_count": null,
      "metadata": {
        "id": "2-sc2HdlbEcU",
        "colab": {
          "base_uri": "https://localhost:8080/"
        },
        "outputId": "f1ffd280-ea82-4e08-a927-a6b0f32e7c43"
      },
      "outputs": [
        {
          "output_type": "stream",
          "name": "stdout",
          "text": [
            "CPU times: user 8.3 ms, sys: 5.68 ms, total: 14 ms\n",
            "Wall time: 14.5 ms\n"
          ]
        }
      ],
      "source": [
        "#Output vectors for SimulatorIa\n",
        "# %time out6a = SimulatorIa(gates6, 6, in6)\n",
        "# %time out7a = SimulatorIa(gates7, 7, in7)\n",
        "# %time out8a = SimulatorIa(gates8, 8, in8)\n",
        "# %time out9a = SimulatorIa(gates9, 9, in9)\n",
        "# %time out10a = SimulatorIa(gates10, 10, in10)\n",
        "# %time out11a = SimulatorIa(gates11, 11, in11)\n",
        "# %time out12a = SimulatorIa(gates12, 12, in12)\n",
        "\n",
        "#Outputvectors for SimulatorIb\n",
        "# %time out6b = simulatorIb(gates6, 6, in6)\n",
        "# %time out7b = simulatorIb(gates7, 7, in7)\n",
        "# %time out8b = simulatorIb(gates8, 8, in8)\n",
        "# %time out9b = SimulatorIb(gates9, 9, in9)\n",
        "# %time out10b = SimulatorIb(gates10, 10, in10)\n",
        "# %time out11b = SimulatorIb(gates11, 11, in11)\n",
        "# %time out12b = simulatorIb(gates12, 12, in12)\n",
        "\n",
        "#Outputvectors for SimulatorIc\n",
        "# %time out6c = SimulatorIc(gates6, 6, in6)\n",
        "# %time out7c = SimulatorIc(gates7, 7, in7)\n",
        "# %time out8c = SimulatorIc(gates8, 8, in8)\n",
        "# %time out9c = SimulatorIc(gates9, 9, in9)\n",
        "# %time out10c = SimulatorIc(gates10, 10, in10)\n",
        "# %time out11c = SimulatorIc(gates11, 11, in11)\n",
        "# %time out12c = SimulatorIc(gates12, 12, in12)\n",
        "\n",
        "#Output vectors for SimulatorII\n",
        "# %time out6ii = SimulatorII(6, input6)\n",
        "# %time out7ii = SimulatorII(7, input7)\n",
        "# %time out8ii = SimulatorII(8, input8)\n",
        "# %time out9ii = SimulatorII(9, input9)\n",
        "# %time out10ii = SimulatorII(10, input10)\n",
        "# %time out11ii = SimulatorII(11, input11)\n",
        "# %time out12ii = SimulatorII(12, input12)\n"
      ]
    },
    {
      "cell_type": "code",
      "source": [
        "pip install memory_profiler"
      ],
      "metadata": {
        "id": "NlC9hyOPMWiG",
        "colab": {
          "base_uri": "https://localhost:8080/"
        },
        "outputId": "18a366f1-e0fa-4425-b550-9c16a0d6f5ec"
      },
      "execution_count": null,
      "outputs": [
        {
          "output_type": "stream",
          "name": "stdout",
          "text": [
            "Requirement already satisfied: memory_profiler in /usr/local/lib/python3.7/dist-packages (0.60.0)\n",
            "Requirement already satisfied: psutil in /usr/local/lib/python3.7/dist-packages (from memory_profiler) (5.4.8)\n"
          ]
        }
      ]
    },
    {
      "cell_type": "code",
      "source": [
        "%load_ext memory_profiler"
      ],
      "metadata": {
        "id": "M9_079hKMeOX"
      },
      "execution_count": null,
      "outputs": []
    },
    {
      "cell_type": "code",
      "source": [
        "#RAM USAGE\n",
        "# %memit out6a = SimulatorIa(gates6, 6, in6)\n",
        "# %memit out7a = SimulatorIa(gates7, 7, in7)\n",
        "# %memit out8a = SimulatorIa(gates8, 8, in8)\n",
        "# %memit out9a = SimulatorIa(gates9, 9, in9)\n",
        "# %memit out10a = SimulatorIa(gates10, 10, in10)\n",
        "# %memit out11a = SimulatorIa(gates11, 11, in11)\n",
        "# %memit out12a = SimulatorIa(gates12, 12, in12)\n",
        "\n",
        "\n",
        "# %memit out6b = SimulatorIb(gates6, 6, in6)\n",
        "# %memit out7b = SimulatorIb(gates7, 7, in7)\n",
        "# %memit out8b = SimulatorIb(gates8, 8, in8)\n",
        "# %time out9b = SimulatorIb(gates9, 9, in9)\n",
        "# %time out10b = SimulatorIb(gates10, 10, in10)\n",
        "# %time out11b = SimulatorIb(gates11, 11, in11)\n",
        "# %memit out12b = SimulatorIb(gates12, 12, in12)\n",
        "\n",
        "# %memit out6c = SimulatorIc(gates6, 6, in6)\n",
        "# %memit out7c = SimulatorIc(gates7, 7, in7)\n",
        "# %memit out8c = SimulatorIc(gates8, 8, in8)\n",
        "# %time out9c = SimulatorIc(gates9, 9, in9)\n",
        "# %time out10c = SimulatorIc(gates10, 10, in10)\n",
        "# %time out11c = SimulatorIc(gates11, 11, in11)\n",
        "# %memit SimulatorIc(gates12, 12, in12)\n",
        "\n",
        "# %memit out6ii = SimulatorII(6, input6)\n",
        "# %memit out7ii = SimulatorII(7, input7)\n",
        "# %memit out8ii = SimulatorII(8, input8)\n",
        "# %memit out9ii = SimulatorII(9, input9)\n",
        "# %memit out10ii = SimulatorII(10, input10)\n",
        "# %memit out11ii = SimulatorII(11, input11)\n",
        "%memit out12ii = SimulatorII(12, input12)"
      ],
      "metadata": {
        "colab": {
          "base_uri": "https://localhost:8080/"
        },
        "id": "2LfFIageMmAf",
        "outputId": "293e00dc-2e3d-479c-f6c5-c35c0ad67e3f"
      },
      "execution_count": null,
      "outputs": [
        {
          "output_type": "stream",
          "name": "stdout",
          "text": [
            "peak memory: 3895.54 MiB, increment: 3504.06 MiB\n"
          ]
        }
      ]
    },
    {
      "cell_type": "code",
      "source": [
        "timesIa = [0.00604, 0.0203, 0.058, 0.398, 1.03, 17.7, 131] # 6,7,8, 9, 10, 11, 12 qubits in seconds\n",
        "timesIb = [0.00216, 0.00278, 0.0115, 0.0207, 0.0867, 0.327, 0.696] # 6,7,8,9,10,11,12 qubits in seconds\n",
        "timeIc = [0.0114, 0.0137, 0.0176, 0.0611, 0.0952, 0.547, 1.38] # 6,7,8,9,10,11,12 qubits in seconds\n",
        "timesII = [0.0422, 0.166, 0.847, 2.28, 10.1, 26.8, 347] # 6,7,8,9,10,11,12 qubits in seconds\n",
        "\n",
        "\n",
        "#RAMS\n",
        "ramIa = [1945.23, 1946.00, 1949.55, 2729.60]  #6,7,8,12\n",
        "ramIb = [2730.04, 2730.07, 2730.08, 2729.92]  #6,7,8,12\n",
        "ramIc = [2730.54, 2730.56, 2730.58, 2730.63]  #6,7,8,12\n",
        "ramII = [93.03, 163.82, 174.85, 216.48, 393.27, 1051.64, 3895.54] #6,7,8,9,10,11,12"
      ],
      "metadata": {
        "id": "eB7tcO31c9l_"
      },
      "execution_count": null,
      "outputs": []
    },
    {
      "cell_type": "code",
      "source": [
        "# %Graph of \n",
        "range = [6,7,8,9,10,11,12]\n",
        "plt.figure()\n",
        "plt.plot(range, timesIa, 'o-', label = 'Sim Ia')\n",
        "plt.plot(range, timesIb, 'o-', label = 'Sim Ib')\n",
        "plt.plot(range, timeIc, 'o--', label = 'Sim Ic')\n",
        "plt.plot(range, timesII, 'o-', label = 'Sim II')\n",
        "plt.ylabel('Time (seconds)')\n",
        "plt.xlabel('qubits')\n",
        "plt.legend()\n",
        "\n",
        "plt.figure()\n",
        "plt.plot([6,7,8,12], ramIa, 'o-', label = 'Sim Ia' )\n",
        "plt.plot([6,7,8,12], ramIb, 'o-', label = 'Sim Ib')\n",
        "plt.plot([6,7,8,12], ramIc, 'o--', label = 'Sim Ic')\n",
        "plt.plot(range, ramII, 'o-', label = 'Sim II')\n",
        "plt.ylabel('RAM (MB)')\n",
        "plt.xlabel('qubits')\n",
        "plt.legend()"
      ],
      "metadata": {
        "colab": {
          "base_uri": "https://localhost:8080/",
          "height": 558
        },
        "id": "xwB8Xmgk7VMO",
        "outputId": "147e9e88-c2df-47a0-bb7c-e41d1ad12ed0"
      },
      "execution_count": null,
      "outputs": [
        {
          "output_type": "execute_result",
          "data": {
            "text/plain": [
              "<matplotlib.legend.Legend at 0x7f0812696090>"
            ]
          },
          "metadata": {},
          "execution_count": 3
        },
        {
          "output_type": "display_data",
          "data": {
            "text/plain": [
              "<Figure size 432x288 with 1 Axes>"
            ],
            "image/png": "[encoded data removed]"
          },
          "metadata": {
            "needs_background": "light"
          }
        },
        {
          "output_type": "display_data",
          "data": {
            "text/plain": [
              "<Figure size 432x288 with 1 Axes>"
            ],
            "image/png": "[encoded data removed]"
          },
          "metadata": {
            "needs_background": "light"
          }
        }
      ]
    },
    {
      "cell_type": "markdown",
      "metadata": {
        "id": "bGRRYkCqOJ6O"
      },
      "source": [
        "## **Simulator II**"
      ]
    },
    {
      "cell_type": "code",
      "execution_count": null,
      "metadata": {
        "colab": {
          "base_uri": "https://localhost:8080/"
        },
        "id": "kvM4qU-0OMFi",
        "outputId": "44dfaa23-e96c-40a7-a80f-253a1eea385d"
      },
      "outputs": [
        {
          "output_type": "stream",
          "name": "stdout",
          "text": [
            "['00', '01', '11']\n"
          ]
        }
      ],
      "source": [
        "myState=[\n",
        "  (np.sqrt(0.1), '00'),\n",
        "  (np.sqrt(0.4), '01') , \n",
        "  (-np.sqrt(0.5), '11' )\n",
        "]\n",
        "\n",
        "print([element[1] for element in myState])"
      ]
    },
    {
      "cell_type": "markdown",
      "source": [
        "### **Defining new Gate functions for Simulator II**"
      ],
      "metadata": {
        "id": "_YPAikzwQ9CE"
      }
    },
    {
      "cell_type": "code",
      "execution_count": null,
      "metadata": {
        "id": "TOLrBS4nRFNK"
      },
      "outputs": [],
      "source": [
        "def Hadamard(inWire,numWires,inputState):\n",
        "  H = HadamardArray(inWire, numWires)\n",
        "  new_state = newState(inputState, numWires, H)\n",
        "  return RemoveDuplicates(new_state)\n",
        "\n",
        "def Phase(inWire, theta, numWires, inputState):\n",
        "  P = PhaseArray(inWire, numWires, theta)\n",
        "  new_state = newState(inputState, numWires, P)\n",
        "  return RemoveDuplicates(new_state)\n",
        "\n",
        "def CNOT(controlWire, targetWire, numWires, inputState):\n",
        "  C = CNOTArray(controlWire, targetWire, numWires)\n",
        "  new_state = newState(inputState, numWires, C)\n",
        "  return RemoveDuplicates(new_state)\n",
        "\n",
        "def newState(inputState, numWires, gate):\n",
        "  outputState = []\n",
        "  for element in inputState:\n",
        "    element_vec = np.zeros(2**numWires, dtype=np.complex128)\n",
        "    element_vec[int(element[1],2)] = element[0]\n",
        "    output_vec = gate @ element_vec\n",
        "    output_state = VectoState(output_vec)\n",
        "    for v, k in output_state:\n",
        "      outputState.append((v,k))\n",
        "  return outputState\n",
        "\n",
        "def RemoveDuplicates(myState):\n",
        "  keys = []\n",
        "  keys = list(set([element[1] for element in myState]))\n",
        "  duplicate = dict.fromkeys(keys, 0)\n",
        "  result = []\n",
        "  \n",
        "  for element in myState:\n",
        "    duplicate[element[1]] = duplicate[element[1]] + element[0]\n",
        "  for i in duplicate.keys():\n",
        "    if(duplicate[i] != 0):\n",
        "      result.append((duplicate[i], i))\n",
        "  #result = [(duplicate[i],i) for i in duplicate if duplicate[i] is not 0]\n",
        "\n",
        "  #result.sort(key = lambda x: x[1]) \n",
        "  return list(SortList(result))\n",
        "\n",
        "def SortList(s): \n",
        "    lst = len(s) \n",
        "    for i in range(0, lst):   \n",
        "        for j in range(0, lst-i-1): \n",
        "            if (int(s[j][1],2) > int(s[j + 1][1],2)): \n",
        "                temp = s[j] \n",
        "                s[j]= s[j + 1] \n",
        "                s[j + 1]= temp \n",
        "    return s \n",
        "  \n",
        "#Tests\n",
        "# H_check = Hadamard(0,2,myState)\n",
        "# print(H_check)\n",
        "\n",
        "# P_check = RemoveDuplicates(Phase(0, np.pi,2, myState))\n",
        "# print(P_check)\n",
        "\n",
        "# C_check = RemoveDuplicates(CNOT(0,1,2,myState))\n",
        "# print(C_check)\n",
        "# print(StateToVec(C_check,2))\n",
        "# default_vecstate = np.zeros(2**5)\n",
        "# default_vecstate[0] = 1\n",
        "# print(VectoState(default_vecstate))"
      ]
    },
    {
      "cell_type": "markdown",
      "source": [
        "### **Defining the Simulator II**"
      ],
      "metadata": {
        "id": "-ZWiYyPTVKTo"
      }
    },
    {
      "cell_type": "code",
      "execution_count": null,
      "metadata": {
        "id": "SBrTh1znUgMa"
      },
      "outputs": [],
      "source": [
        "def SimulatorII(Input_wires, Input):\n",
        "  measure = False\n",
        "  input_vec = np.zeros(2**Input_wires, dtype=np.complex128)\n",
        "\n",
        "  if (Input[0][0] == 'INITSTATE'):\n",
        "    input_vec = InitState(Input[0])\n",
        "    Input = Input[1:]\n",
        "  else:\n",
        "    input_vec[1] = 1\n",
        "  \n",
        "  state = VectoState(input_vec)\n",
        "  \n",
        "  for input in Input:\n",
        "    if(input[0] == 'H'):\n",
        "      state = Hadamard(int(input[1]), Input_wires, state)\n",
        "    \n",
        "    if(input[0] == 'P'):\n",
        "      state = Phase(int(input[1]), float(input[2]), Input_wires, state)\n",
        "    \n",
        "    if(input[0] == 'CNOT'):\n",
        "      state = CNOT(int(input[1]), int(input[2]), Input_wires, state)\n",
        "    \n",
        "    if(input[0] == 'FUNC'):\n",
        "      if(input[3] == 'xyModN'):\n",
        "        temp = state[input[1]:input[1] + input[2]]\n",
        "        y = StatetoVec(temp, Input_wires)\n",
        "        U = buildUnitaryMatrix(input[4],input[5])\n",
        "        # state[input[1]:input[1]+input[2]] = xyModN(y, U) \n",
        "        state = xyModN(y, U) \n",
        "    \n",
        "    if(input[0] == 'MEASURE'):\n",
        "      measure = True\n",
        "  \n",
        "  # if (measure):\n",
        "  #   Measure(StatetoVec(output,Input_wires))\n",
        "  # else:\n",
        "  #   # print(output)  \n",
        "  #   PrettyPrintInteger(output)\n",
        "\n",
        "  return state"
      ]
    },
    {
      "cell_type": "code",
      "execution_count": null,
      "metadata": {
        "id": "RGKmu8hobARX"
      },
      "outputs": [],
      "source": [
        "#rand.circuit\n",
        "Input_wires, Input = ReadInput('rand.circuit')\n",
        "SimulatorII(Input_wires, Input)"
      ]
    },
    {
      "cell_type": "code",
      "execution_count": null,
      "metadata": {
        "id": "STcNEpHnyeIi"
      },
      "outputs": [],
      "source": [
        "#measure.circuit\n",
        "Input2_wires, Input2 = ReadInput('measure.circuit')\n",
        "SimulatorII(Input2_wires, Input2)"
      ]
    },
    {
      "cell_type": "code",
      "execution_count": null,
      "metadata": {
        "id": "fjwnZCrSyr8H"
      },
      "outputs": [],
      "source": [
        "#input.circuit\n",
        "Input3_wires, Input3 = ReadInput('input.circuit')\n",
        "SimulatorII(Input3_wires, Input3)"
      ]
    },
    {
      "cell_type": "markdown",
      "metadata": {
        "id": "pd4qxxO0TGEZ"
      },
      "source": [
        "# **Non-Atomic Gates**"
      ]
    },
    {
      "cell_type": "code",
      "execution_count": null,
      "metadata": {
        "id": "7OtKazmIVKO8"
      },
      "outputs": [],
      "source": [
        "#Not Gate: H -> P(pi) -> H\n",
        "#For 1 wire: NOT = HadamardArray(0,1) @ PhaseArray(0,1,np.pi) @ HadamardArray(0,1)\n",
        "def NOT(i,k):\n",
        "  return HadamardArray(i,k) @ PhaseArray(0,1,np.pi) @ HadamardArray(i,k)\n",
        "\n",
        "#Rz Gate: P(theta/2) -> NOT -> P(-theta/2) -> NOT\n",
        "def Rz(i,k,theta):\n",
        "  return  NOT(i,k) @ PhaseArray(-theta*0.5) @ NOT(i,k) @ PhaseArray(theta*0.5)\n",
        "\n",
        "#C-Rz Gate: P(theta/2)(1) -> CNOT(0,1) -> P(-theta/2)(1) -> CNOT(0,1)\n",
        "def CRz(control,target,k, theta):\n",
        "  return  CNOTArray(control, target, k) @ PhaseArray(target,k, -theta*0.5) @ CNOTArray(control,target,k) @ PhaseArray(target,k, theta*0.5)\n",
        "\n",
        "#C-Phase Gate: CRz(0,1,2,theta) -> Phase(0,2, theta/2)\n",
        "def CPhase(control, target, k, phase):\n",
        "  return  PhaseArray(control, k, 0.5*phase) @ CRz(control,target,k, phase)\n",
        "\n",
        "#SWAP Gate: CNOT(0,1) -> CNOT(1,0) -> CNOT(0,1)\n",
        "def SWAP(control, target,k):\n",
        "  return CNOTArray(control, target,k) @ CNOTArray(target, control, k) @ CNOTArray(control, target, k)"
      ]
    },
    {
      "cell_type": "code",
      "execution_count": null,
      "metadata": {
        "id": "P0Z0E5LFyS7B"
      },
      "outputs": [],
      "source": [
        "def PreCompiler(wires, input, outputfilename):\n",
        "  f = open(outputfilename, \"w\")\n",
        "  f.write(str(wires) + '\\n')\n",
        "  for line in input:\n",
        "    if(line[0] == 'H'):\n",
        "      f.write('H' + '\\t' + line[1] + '\\n')\n",
        "    \n",
        "    if(line[0] == 'P'):\n",
        "      f.write('P' + '\\t' + line[1] + '\\t' + line[2] + '\\n')\n",
        "    \n",
        "    if(line[0] == 'CNOT'):\n",
        "      f.write('CNOT' + '\\t' + line[1] + '\\t' + line[2] + '\\n')\n",
        "    \n",
        "    if(line[0] == 'NOT'):\n",
        "      f.write('H' + '\\t' + line[1] + '\\n')\n",
        "      f.write( 'P' + '\\t' + line[1] + '\\t' + 'pi'+ '\\n')\n",
        "      f.write('H' + '\\t' + line[1]+ '\\n')\n",
        "    \n",
        "    if(line[0] == 'CPHASE'):\n",
        "      f.write('P' + '\\t' + line[2] +'\\t' + str(0.5*float(line[3]))+ '\\n')\n",
        "      f.write('CNOT' +'\\t' + line[1] + '\\t' + line[2]+ '\\n')\n",
        "      f.write('P' +'\\t' + line[2] +'\\t' + str(-0.5*float(line[3]))+ '\\n')\n",
        "      f.write('CNOT' +'\\t' + line[1] +'\\t' + line[2]+ '\\n')\n",
        "      f.write('P' +'\\t' + line[1] +'\\t' + str(0.5*float(line[3]))+ '\\n')\n",
        "    \n",
        "    if(line[0] == 'SWAP'):\n",
        "      f.write('CNOT' +'\\t' + line[1] +'\\t' + line[2]+ '\\n')\n",
        "      f.write('CNOT' +'\\t' + line[2] +'\\t' + line[1]+ '\\n')\n",
        "      f.write('CNOT' +'\\t' + line[1] +'\\t' + line[2]+ '\\n')\n",
        "\n",
        "  f.close()"
      ]
    },
    {
      "cell_type": "code",
      "execution_count": null,
      "metadata": {
        "id": "1gsN1-x4NBz_"
      },
      "outputs": [],
      "source": [
        "#Pre-compile\n",
        "inputwires, input = ReadInput('NonAtomicGates.txt')\n",
        "PreCompiler(inputwires, input, 'NonAtomicCompiled.txt')"
      ]
    },
    {
      "cell_type": "code",
      "execution_count": null,
      "metadata": {
        "colab": {
          "base_uri": "https://localhost:8080/"
        },
        "id": "qSEtMNlF47l3",
        "outputId": "cb676273-cbc2-428a-b92a-7f2db41deb1c"
      },
      "outputs": [
        {
          "data": {
            "text/plain": [
              "[((0.7071067811865475+0j), '1000000'),\n",
              " ((0.7071067811865474-1.3877787807814457e-17j), '101000000')]"
            ]
          },
          "execution_count": 73,
          "metadata": {},
          "output_type": "execute_result"
        }
      ],
      "source": [
        "Input_wires, Input = ReadInput('NonAtomicCompiled.txt')\n",
        "SimulatorII(Input_wires, Input)"
      ]
    },
    {
      "cell_type": "markdown",
      "metadata": {
        "id": "xYWJUjZDVSwG"
      },
      "source": [
        "## **Phase Estimation**"
      ]
    },
    {
      "cell_type": "code",
      "execution_count": null,
      "metadata": {
        "id": "2AarwsarXIu0"
      },
      "outputs": [],
      "source": [
        "def convertBintoTheta(number):\n",
        "  theta_val = 0.0\n",
        "  for i in range(len(number)-1):\n",
        "    theta_val = theta_val + (1/(2**(i+1)))*float(number[i])\n",
        "  return theta_val"
      ]
    },
    {
      "cell_type": "code",
      "execution_count": null,
      "metadata": {
        "colab": {
          "base_uri": "https://localhost:8080/",
          "height": 316
        },
        "id": "o5hBAqOTXI7o",
        "outputId": "b78a988e-6fa2-4b76-8eb4-85ed2e035be0"
      },
      "outputs": [
        {
          "output_type": "execute_result",
          "data": {
            "text/plain": [
              "Text(0.5, 1.0, 'Counting wires = 1')"
            ]
          },
          "metadata": {},
          "execution_count": 43
        },
        {
          "output_type": "display_data",
          "data": {
            "text/plain": [
              "<Figure size 432x288 with 1 Axes>"
            ],
            "image/png": "[encoded data removed]"
          },
          "metadata": {
            "needs_background": "light"
          }
        }
      ],
      "source": [
        "#Using SimulatorII to do Phase Estimation\n",
        "#Example 1: H(0,2) -> CPhase(0,1,2, phi) -> H(0,2) for range of phis\n",
        "numWires = 2\n",
        "initial_vector = np.zeros(numWires**2)\n",
        "initial_vector[1] = 1\n",
        "thetas = []\n",
        "\n",
        "phi = np.linspace(0,2*np.pi, 100)\n",
        "Ulist = [HadamardArray(0,numWires) @ CPhase(0,1,numWires, phase) @ HadamardArray(0,numWires) for phase in phi]\n",
        "output_list = [(U @ initial_vector) for U in Ulist]\n",
        "#output_list = SimulatorII()\n",
        "theta_list = [np.argmax(output) for output in output_list]\n",
        "binary_theta_list = [format(theta,'b') for theta in theta_list]\n",
        "thetas = [convertBintoTheta(num) for num in binary_theta_list]\n",
        "\n",
        "plt.plot(phi,thetas)\n",
        "plt.xlabel('$\\phi/2\\pi$')\n",
        "plt.ylabel('$\\\\theta_{j}$')\n",
        "plt.title('Counting wires = 1')\n",
        "\n",
        "# print(thetas)\n",
        "# print(binary_theta_list)\n",
        "# for i  in range(len(output_list)):\n",
        "#   output_list[i] = [x for x in output_list[i] if x!= 0]"
      ]
    },
    {
      "cell_type": "code",
      "execution_count": null,
      "metadata": {
        "colab": {
          "base_uri": "https://localhost:8080/"
        },
        "id": "o6TqGke8H5uh",
        "outputId": "31037263-f866-40ce-c76f-29e3054a3940"
      },
      "outputs": [
        {
          "output_type": "stream",
          "name": "stdout",
          "text": [
            "[0.0, 0.8108049841353318, 0.0, 0.1891950158646677]\n"
          ]
        }
      ],
      "source": [
        "phi2 = 2*np.pi*0.1432394487827058\n",
        "U = HadamardArray(0,2) @ CPhase(0,1,2, phi2) @ HadamardArray(0,2)\n",
        "initial_vector = np.zeros(2**2)\n",
        "initial_vector[1] = 1\n",
        "thetas = []\n",
        "output = U @ initial_vector\n",
        "absoutput = [abs(i)**2 for i in output]\n",
        "\n",
        "print(absoutput)"
      ]
    },
    {
      "cell_type": "code",
      "execution_count": null,
      "metadata": {
        "colab": {
          "base_uri": "https://localhost:8080/",
          "height": 282
        },
        "id": "X_d5Df5tIqeG",
        "outputId": "a0cc01d2-d8aa-46a6-da96-21857edd7654"
      },
      "outputs": [
        {
          "output_type": "execute_result",
          "data": {
            "text/plain": [
              "<BarContainer object of 4 artists>"
            ]
          },
          "metadata": {},
          "execution_count": 48
        },
        {
          "output_type": "display_data",
          "data": {
            "text/plain": [
              "<Figure size 432x288 with 1 Axes>"
            ],
            "image/png": "[encoded data removed]"
          },
          "metadata": {
            "needs_background": "light"
          }
        }
      ],
      "source": [
        "plt.figure()\n",
        "plt.bar(range(2**2), absoutput)\n",
        "# plt.annotate(\"$\\phi/2\\pi$\", (1, 4))"
      ]
    },
    {
      "cell_type": "code",
      "execution_count": null,
      "metadata": {
        "colab": {
          "base_uri": "https://localhost:8080/",
          "height": 316
        },
        "id": "c_s9kpKrNN2l",
        "outputId": "dc630afe-d47d-4109-837e-f1bbe959295c"
      },
      "outputs": [
        {
          "data": {
            "text/plain": [
              "Text(0.5, 1.0, 'Counting wires = 2')"
            ]
          },
          "execution_count": 79,
          "metadata": {},
          "output_type": "execute_result"
        },
        {
          "data": {
            "image/png": "[encoded data removed]",
            "text/plain": [
              "<Figure size 432x288 with 1 Axes>"
            ]
          },
          "metadata": {},
          "output_type": "display_data"
        }
      ],
      "source": [
        "#Example 2: H(0,3) -> H(0,3) -> CPhase(1,2,3,theta) -> CPhase(0,2,3,theta) -> CPhase(0,2,3,theta) -> H(0,3) -> CPhase(0,1,3, -pi/2) -> H(1,3) -> SWAP(0,1)\n",
        "numWires = 3\n",
        "initial_vector = np.zeros(2**numWires, dtype = np.complex128)\n",
        "initial_vector[1] = 1\n",
        "thetas = []\n",
        "\n",
        "phi = np.linspace(0,2*np.pi, 100)\n",
        "\n",
        "U1 = HadamardArray(1,3) @ HadamardArray(0,3)\n",
        "U3 = SWAP(0,1,3) @ HadamardArray(1,3) @ CPhase(0,1,3, -np.pi/2) @ HadamardArray(0,3)\n",
        "U2 = [CPhase(0,2,3, phase) @ CPhase(0,2,3,phase) @ CPhase(1,2,3, phase) for phase in phi]\n",
        "Ulist = U3 @ U2 @ U1\n",
        "\n",
        "output_list = [U @ initial_vector for U in Ulist]\n",
        "# output_list_abs = []\n",
        "# for output in output_list:\n",
        "#   output_list_abs.append([abs(i)*abs(i) for i in output])\n",
        "\n",
        "theta_list = [np.argmax(out) for out in output_list]\n",
        "binary_theta_list = [format(theta,'b') for theta in theta_list]\n",
        "thetas = [convertBintoTheta(num) for num in binary_theta_list]\n",
        "\n",
        "plt.plot(phi/(1*np.pi), thetas)\n",
        "plt.xlabel('$\\phi/2\\pi$')\n",
        "plt.ylabel('$\\\\theta_{j}$')\n",
        "plt.title('Counting wires = 2')\n",
        "# print(thetas)\n",
        "# histogram = count_elements(thetas)\n",
        "# plt.bar(, list(histogram.values()), width = 0.4)\n"
      ]
    },
    {
      "cell_type": "code",
      "execution_count": null,
      "metadata": {
        "colab": {
          "base_uri": "https://localhost:8080/"
        },
        "id": "ehgsHdSkKNmG",
        "outputId": "cdbf59fb-c797-4f45-8387-d82d2d37e818"
      },
      "outputs": [
        {
          "name": "stdout",
          "output_type": "stream",
          "text": [
            "[0.0, 0.3132941966760944, 0.0, 0.5471256297543488, 0.0, 0.07310475597736166, 0.0, 0.06647541759219412]\n"
          ]
        }
      ],
      "source": [
        "phase = phi2\n",
        "U = SWAP(0,1,3) @ HadamardArray(1,3) @ CPhase(0,1,3, -np.pi/2) @ HadamardArray(0,3) @ CPhase(0,2,3, phase) @ CPhase(0,2,3,phase) @ CPhase(1,2,3, phase) @ HadamardArray(1,3) @ HadamardArray(0,3)\n",
        "initial_vector = np.zeros(2**3, dtype = np.complex128)\n",
        "initial_vector[1] = 1\n",
        "\n",
        "output = U @ initial_vector\n",
        "absoutput = [abs(i)**2 for i in output]\n",
        "\n",
        "print(absoutput)"
      ]
    },
    {
      "cell_type": "code",
      "execution_count": null,
      "metadata": {
        "colab": {
          "base_uri": "https://localhost:8080/",
          "height": 282
        },
        "id": "W5hdRG8YKzsW",
        "outputId": "89b3e184-761d-43d5-9d5f-f67b2a73d9e6"
      },
      "outputs": [
        {
          "data": {
            "text/plain": [
              "<BarContainer object of 8 artists>"
            ]
          },
          "execution_count": 81,
          "metadata": {},
          "output_type": "execute_result"
        },
        {
          "data": {
            "image/png": "[encoded data removed]",
            "text/plain": [
              "<Figure size 432x288 with 1 Axes>"
            ]
          },
          "metadata": {},
          "output_type": "display_data"
        }
      ],
      "source": [
        "plt.bar(range(2**3), absoutput, width = 0.5)"
      ]
    },
    {
      "cell_type": "markdown",
      "metadata": {
        "id": "P1sJSe8fBRRf"
      },
      "source": [
        "# **Quantum Fourier Transform**"
      ]
    },
    {
      "cell_type": "code",
      "execution_count": null,
      "metadata": {
        "id": "1MOdbjNTBUGV"
      },
      "outputs": [],
      "source": [
        "QFT3wires, QFT3input = ReadInput('QFT3.txt')\n",
        "PreCompiler(QFT3wires, QFT3input, 'QFT3Compiled.txt')"
      ]
    },
    {
      "cell_type": "code",
      "execution_count": null,
      "metadata": {
        "id": "TKKgDsfMCJQz"
      },
      "outputs": [],
      "source": [
        "wires, Input = ReadInput('QFT3Compiled.txt')\n",
        "SimulatorII(wires, Input)"
      ]
    },
    {
      "cell_type": "code",
      "execution_count": null,
      "metadata": {
        "id": "C3BUCRQoCkjp"
      },
      "outputs": [],
      "source": [
        "# Test\n",
        "Testinput = []\n",
        "Testwires, Testinput = ReadInput('QFT3Test.txt')\n",
        "PreCompiler(Testwires, Testinput, 'QFT3TestCompiled.txt')\n",
        "testWires, testInput = ReadInput('QFT3TestCompiled.txt')\n",
        "SimulatorII(testWires, testInput)"
      ]
    },
    {
      "cell_type": "code",
      "execution_count": null,
      "metadata": {
        "id": "l4-WjUZADLVX"
      },
      "outputs": [],
      "source": [
        "def buildIQFT(numWires):\n",
        "  input = []\n",
        "  for i in range(numWires):\n",
        "    input.append(['H', str(i)])\n",
        "\n",
        "    for j in range(i+1, numWires):\n",
        "      input.append(['CPHASE', str(i), str(j), str(float( -1*np.pi/(2**(j-i))))])\n",
        "\n",
        "  return input\n",
        "\n",
        "def buildQFT(IQFT):\n",
        "  inverse = IQFT[::-1]\n",
        "  for i in range(len(inverse)):\n",
        "    if(inverse[i][0] == 'CPHASE'):\n",
        "      inverse[i][3] = str(-1*float(inverse[i][3]))\n",
        "  \n",
        "  return inverse\n",
        "\n",
        "# buildIQFT(6)\n",
        "# buildIQFT(3)"
      ]
    },
    {
      "cell_type": "code",
      "execution_count": null,
      "metadata": {
        "id": "xUGEOB1BmIhc"
      },
      "outputs": [],
      "source": [
        "build_input = buildQFT(buildIQFT(3))\n",
        "PreCompiler(3, build_input, 'buildQFT3Compiled.txt')\n",
        "QFTwires, QFTinput = ReadInput('buildQFT3Compiled.txt')\n",
        "SimulatorII(QFTwires,QFTinput)"
      ]
    },
    {
      "cell_type": "code",
      "execution_count": null,
      "metadata": {
        "id": "iqrklNXmmwBT"
      },
      "outputs": [],
      "source": [
        "input = buildQFT(buildIQFT(5))\n",
        "input.insert(0,['INITSTATE', 'FILE', 'myInputState.txt'])\n",
        "input"
      ]
    },
    {
      "cell_type": "code",
      "execution_count": null,
      "metadata": {
        "id": "eKTgY4eIoujb"
      },
      "outputs": [],
      "source": [
        "SimulatorII(5,input)"
      ]
    },
    {
      "cell_type": "markdown",
      "metadata": {
        "id": "IWNTaWKdyjSu"
      },
      "source": [
        "# **Building a General Phase Estimation Circuit**"
      ]
    },
    {
      "cell_type": "code",
      "execution_count": null,
      "metadata": {
        "id": "FZqVF2HTpru8"
      },
      "outputs": [],
      "source": [
        "#numWires = 6, totalWires = 7\n",
        "def buildPECircuit(numWires, unitary):\n",
        "  circuit = []\n",
        "  \n",
        "  #Hadamards in the start\n",
        "  circuit = [['H', str(i)] for i in range(numWires)]\n",
        "\n",
        "  #Control-Unitaries\n",
        "  for i in range(numWires):\n",
        "    #if(unitary[0] == 'CPHASE'):\n",
        "    for j in range(2**i):\n",
        "      circuit.append(['CPHASE', str(numWires - i - 1), str(numWires), str(unitary[1])])\n",
        "\n",
        "  #Inverse QFT\n",
        "  input = buildIQFT(numWires)\n",
        "  for elem in input:\n",
        "    circuit.append(elem)\n",
        "  \n",
        "  #Reverse the output\n",
        "  pos = 0\n",
        "  while(pos < numWires/2):\n",
        "    circuit.append(['SWAP', str(pos), str(numWires - pos - 1)])\n",
        "    pos = pos + 1 \n",
        "\n",
        "  return circuit"
      ]
    },
    {
      "cell_type": "code",
      "execution_count": null,
      "metadata": {
        "id": "pzXkFIyvy47M"
      },
      "outputs": [],
      "source": [
        "#2 WIRE PE using QFT\n",
        "phi = np.linspace(0, 2*np.pi, 100)\n",
        "preinput_list = [buildPECircuit(6, ('CPHASE', phase)) for phase in phi]\n",
        "postinput_list = []\n",
        "\n",
        "for i in range(len(preinput_list)):\n",
        "  PreCompiler(6, preinput_list[i], 'QFT.txt')\n",
        "  w, lst = ReadInput('QFT.txt')\n",
        "  postinput_list.append(lst)\n",
        "\n",
        "preinput_list[0]"
      ]
    },
    {
      "cell_type": "code",
      "execution_count": null,
      "metadata": {
        "colab": {
          "background_save": true
        },
        "id": "BBATwEEDzq-c"
      },
      "outputs": [],
      "source": [
        "output_list = []\n",
        "theta_list = []\n",
        "binary_theta_list = []\n",
        "thetas = []\n",
        "\n",
        "output_list = [StatetoVec(SimulatorII(7, post), 7) for post in postinput_list]\n",
        "\n",
        "output_list_abs = []\n",
        "for output in output_list:\n",
        "  output_list_abs.append([abs(i)*abs(i) for i in output])"
      ]
    },
    {
      "cell_type": "code",
      "execution_count": null,
      "metadata": {
        "colab": {
          "background_save": true
        },
        "id": "hnq97oLnLYPz",
        "outputId": "44195b46-d6b4-4021-871b-fb4b7e92135f"
      },
      "outputs": [
        {
          "data": {
            "text/plain": [
              "[<matplotlib.lines.Line2D at 0x7ffb3a7ceb90>]"
            ]
          },
          "execution_count": null,
          "metadata": {},
          "output_type": "execute_result"
        },
        {
          "data": {
            "image/png": "[encoded data removed]",
            "text/plain": [
              "<Figure size 432x288 with 1 Axes>"
            ]
          },
          "metadata": {},
          "output_type": "display_data"
        }
      ],
      "source": [
        "theta_list = [np.argmax(output) for output in output_list_abs]\n",
        "plt.plot(phi/(2*np.pi), theta_list)"
      ]
    },
    {
      "cell_type": "code",
      "execution_count": null,
      "metadata": {
        "colab": {
          "background_save": true
        },
        "id": "kNMhFaqpzBfp"
      },
      "outputs": [],
      "source": [
        "#Histogram\n",
        "phase = phi2\n",
        "preinput = buildPECircuit(6, ('CPHASE', phase))\n",
        "postinput = []\n",
        "for i in range(len(preinput_list)):\n",
        "  PreCompiler(6, preinput_list[i], 'QFT.txt')\n",
        "  w, lst = ReadInput('QFT.txt')\n",
        "  postinput = lst\n",
        "\n",
        "output = StatetoVec(SimulatorII(7, postinput), 7)\n",
        "outputabs = [abs(i)**2 for i in output]"
      ]
    },
    {
      "cell_type": "code",
      "execution_count": null,
      "metadata": {
        "colab": {
          "background_save": true
        },
        "id": "g1p3d1JRNb1a",
        "outputId": "039fa631-0ff0-4c14-a76a-e07a8d33eee6"
      },
      "outputs": [
        {
          "name": "stdout",
          "output_type": "stream",
          "text": [
            "[0.0, 0.9999999999999978, 0.0, 6.2291782026259035e-30, 0.0, 1.6094008709282737e-30, 0.0, 6.965961338364082e-31, 0.0, 3.920266879495297e-31, 0.0, 2.54027073441307e-31, 0.0, 1.7091687474036209e-31, 0.0, 1.3214351100128153e-31, 0.0, 7.615736350051845e-32, 0.0, 8.204224472359787e-32, 0.0, 9.039672905698641e-32, 0.0, 5.674424988058286e-32, 0.0, 3.7622524987592884e-32, 0.0, 4.2263700235751546e-32, 0.0, 3.543834068211285e-32, 0.0, 3.3254729102276306e-32, 0.0, 4.804470858006643e-32, 0.0, 2.731760238663872e-32, 0.0, 2.55408332065754e-32, 0.0, 2.3246959513665205e-32, 0.0, 1.9179921754623357e-32, 0.0, 2.0385525468773812e-32, 0.0, 1.7481211565115202e-32, 0.0, 1.8352495659321207e-32, 0.0, 2.507743428394925e-32, 0.0, 1.6917664301610555e-32, 0.0, 7.170312632085979e-33, 0.0, 1.5938602863719424e-32, 0.0, 1.602159935518996e-32, 0.0, 1.5327598448224507e-32, 0.0, 1.3208037993608842e-32, 0.0, 1.503379373962361e-32, 0.0, 8.718440623123486e-33, 0.0, 1.503379373962353e-32, 0.0, 1.2012989413546332e-32, 0.0, 1.5327598448224537e-32, 0.0, 2.1223929563863614e-32, 0.0, 1.5938602863719375e-32, 0.0, 3.2509071707320066e-32, 0.0, 1.691766430161053e-32, 0.0, 2.1406168712346656e-32, 0.0, 1.8352495659321198e-32, 0.0, 1.7755014378823212e-32, 0.0, 2.0385525468773866e-32, 0.0, 2.2205372418322398e-32, 0.0, 2.3246959513665265e-32, 0.0, 2.633791579865416e-32, 0.0, 2.731760238663891e-32, 0.0, 2.781088566810443e-32, 0.0, 3.325472910227646e-32, 0.0, 3.166576369160222e-32, 0.0, 4.2263700235751486e-32, 0.0, 5.976122548942533e-32, 0.0, 5.674424988058284e-32, 0.0, 4.675005695398515e-32, 0.0, 8.204224472359758e-32, 0.0, 1.339531845205391e-31, 0.0, 1.3214351100128144e-31, 0.0, 1.7939204754473565e-31, 0.0, 2.540270734413066e-31, 0.0, 3.7742181258384098e-31, 0.0, 6.965961338364084e-31, 0.0, 1.4420784712698174e-30, 0.0, 6.2291782026259e-30]\n"
          ]
        },
        {
          "data": {
            "text/plain": [
              "<BarContainer object of 128 artists>"
            ]
          },
          "execution_count": null,
          "metadata": {},
          "output_type": "execute_result"
        },
        {
          "data": {
            "image/png": "[encoded data removed]",
            "text/plain": [
              "<Figure size 432x288 with 1 Axes>"
            ]
          },
          "metadata": {},
          "output_type": "display_data"
        }
      ],
      "source": [
        "print(outputabs)\n",
        "plt.bar(range(2**7), outputabs, width = 2)"
      ]
    },
    {
      "cell_type": "code",
      "execution_count": null,
      "metadata": {
        "id": "NDRo3Z4jPrxK"
      },
      "outputs": [],
      "source": [
        "#Using superposition of eigenstates\n",
        "phi = 0.5\n",
        "psi_0 = np.zeros(2**7)\n",
        "psi_0[0] = 1\n",
        "\n",
        "psi_1 = np.zeros(2**7)\n",
        "psi_1[1] = 1\n",
        "initial_vector = np.sqrt(0.3)*psi_0 + np.sqrt(0.7)*psi_1\n",
        "\n",
        "preinput = buildPECircuit(6, ('CPHASE', phi))\n",
        "postinput = []\n",
        "for i in range(len(preinput_list)):\n",
        "  PreCompiler(7, preinput_list[i], 'QFT.txt')\n",
        "  w, lst = ReadInput('QFT.txt')\n",
        "  postinput = lst\n",
        "\n",
        "output = StatetoVec(SimulatorII(7, postinput), 7)\n",
        "outputabs = [abs(i)**2 for i in output]\n",
        "\n",
        "print(outputabs)\n",
        "plt.bar(range(2**7), outputabs, width = 0.5)\n"
      ]
    },
    {
      "cell_type": "markdown",
      "metadata": {
        "id": "4Mx8DgAvxW1F"
      },
      "source": [
        "# **Classical Shor's Algorithm** (Incomplete)"
      ]
    },
    {
      "cell_type": "code",
      "execution_count": null,
      "metadata": {
        "id": "IWDagPq_yWUd"
      },
      "outputs": [],
      "source": [
        "import sympy\n",
        "import numpy as np\n",
        "import math\n",
        "import numpy.linalg as la\n",
        "from fractions import Fraction"
      ]
    },
    {
      "cell_type": "code",
      "execution_count": null,
      "metadata": {
        "id": "I-geX20bxvQT"
      },
      "outputs": [],
      "source": [
        "def BaseTests(N):\n",
        "  #Check if N is prime\n",
        "  if(sympy.isprime(N)):\n",
        "    return False\n",
        "  \n",
        "  #Check if N is even\n",
        "  if(N % 2 == 0): \n",
        "    return False\n",
        "\n",
        "  #Check if N = x^a\n",
        "  if N == 1:\n",
        "    return False\n",
        " \n",
        "  for i in range(2, int(np.sqrt(N)) + 1) :\n",
        "    val = np.log(N) / np.log(i)\n",
        "    if (round((val - int(val)),8) < 0.00000001):\n",
        "      return False\n",
        "  \n",
        "  return True"
      ]
    },
    {
      "cell_type": "code",
      "execution_count": null,
      "metadata": {
        "id": "5iRwOKx8ooLx"
      },
      "outputs": [],
      "source": [
        "#Checking minimum r\n",
        "def FindMinimumR(N,x):\n",
        "  for r in range(1, N):\n",
        "    if(r % 2 == 0 and (x**r - 1)%N == 0):\n",
        "      return r\n",
        "  \n",
        "  print('r Failed')\n",
        "  return -1"
      ]
    },
    {
      "cell_type": "code",
      "execution_count": null,
      "metadata": {
        "id": "tsPThKYysA-Q"
      },
      "outputs": [],
      "source": [
        "def findFactors(N):\n",
        "  if(BaseTests(N) is not True):\n",
        "    print('Does not satisfy Base Tests')\n",
        "    return []\n",
        "\n",
        "  #Choose a random x\n",
        "  x = 1 + np.random.randint(np.sqrt(N)+1)\n",
        "  print('x is:' + str(x))\n",
        "\n",
        "  #Check gcd(x,N) == 1\n",
        "  if(math.gcd(x,N) is not 1):\n",
        "    print('x and N are not co-prime')\n",
        "    return []\n",
        "  \n",
        "  U = buildUnitaryMatrix(x,N)\n",
        "  eigvals, eigvecs = la.eig(U)\n",
        "  phase_eig = np.angle(eigvals)/(2*np.pi)\n",
        "  \n",
        "  print('Before Multiplying by r:')\n",
        "  print(\"Phase Eig\", np.unique(phase_eig))\n",
        "\n",
        "  random_eigval = np.random.choice(phase_eig)\n",
        "  # print(random_eigval)\n",
        "  d = Fraction(random_eigval).limit_denominator(N)\n",
        "  r = d.denominator\n",
        "  print('R', r)\n",
        "  \n",
        "  # r = FindMinimumR(N, x)\n",
        "  # print('r is: ' + str(r))\n",
        "  # if(r < 1):\n",
        "  #   print('r is not valid')\n",
        "  #   return []\n",
        "\n",
        "  print('After Multiplying by r:')\n",
        "  print(np.unique(phase_eig * r))\n",
        "\n",
        "  factors = []\n",
        "  \n",
        "  #Check if r is valid\n",
        "  if(r >= 1):\n",
        "    print('r is:' + str(r))\n",
        "    factors = [math.gcd( int((x**(r/2) - 1)) % N, N), math.gcd( int((x**(r/2) + 1)) % N , N)]\n",
        "  else:\n",
        "    print('r could not be found')\n",
        "    return []\n",
        "\n",
        "  # print(factors)\n",
        "  #Check if factors are other than 1,N\n",
        "  if(factors[0] == 1 or factors[0] == N):\n",
        "    if(factors[1] == 1 or factors[1] == N):\n",
        "      print('Factors are 1 and N : trivial')\n",
        "      return factors\n",
        "    else:\n",
        "      print('1 factor was 1 or N')\n",
        "      return factors\n",
        "  if(factors[1] == 1 or factors[1] == N):\n",
        "    print('1 factor was 1 or N')\n",
        "    return factors\n",
        "\n",
        "  print('The factors are:')\n",
        "  return factors\n"
      ]
    },
    {
      "cell_type": "code",
      "execution_count": null,
      "metadata": {
        "id": "rN4Y_mu3vBTy",
        "colab": {
          "base_uri": "https://localhost:8080/"
        },
        "outputId": "d90267dd-8c33-4b7a-ec74-47a0626ffdac"
      },
      "outputs": [
        {
          "output_type": "stream",
          "name": "stdout",
          "text": [
            "x is:4\n",
            "Before Multiplying by r:\n",
            "Phase Eig [-0.33333333  0.          0.33333333]\n",
            "R 3\n",
            "After Multiplying by r:\n",
            "[-1.  0.  1.]\n",
            "r is:3\n",
            "The factors are:\n"
          ]
        },
        {
          "output_type": "execute_result",
          "data": {
            "text/plain": [
              "[7, 3]"
            ]
          },
          "metadata": {},
          "execution_count": 77
        }
      ],
      "source": [
        "findFactors(21)"
      ]
    },
    {
      "cell_type": "code",
      "execution_count": null,
      "metadata": {
        "id": "xHXMWW_e16zq"
      },
      "outputs": [],
      "source": [
        "findFactors(537)"
      ]
    },
    {
      "cell_type": "markdown",
      "metadata": {
        "id": "2An8tLBUFEh5"
      },
      "source": [
        "**Building the Unitary for Period Finding in Shor's**"
      ]
    },
    {
      "cell_type": "code",
      "execution_count": null,
      "metadata": {
        "id": "icp_8QXT_eoz"
      },
      "outputs": [],
      "source": [
        "x,N = 2, 15"
      ]
    },
    {
      "cell_type": "code",
      "execution_count": null,
      "metadata": {
        "id": "k-FomFr8_Ss2"
      },
      "outputs": [],
      "source": [
        "#Building Unitary Matrix\n",
        "def buildUnitaryMatrix(x,N):\n",
        "  n = math.ceil(np.log2(N))\n",
        "  U = np.zeros((2**n, 2**n))\n",
        "  j = 0\n",
        "  while( j < N ):\n",
        "    U[(j*x) % N, j] = 1\n",
        "    j = j + 1\n",
        "\n",
        "  while(j >= N and j < 2**n):\n",
        "    U[j, j] = 1\n",
        "    j = j + 1\n",
        "  \n",
        "  return U"
      ]
    },
    {
      "cell_type": "code",
      "source": [
        "#Building the circuit description for UxyModN:\n",
        "# FUNC 4 5 xyModN 2 15:\n",
        "# 4 <- Refers to the first wire that defines y\n",
        "# 5 <- Refers to how many wires after the first wire is combined to define y\n",
        "# xyModN <- Name of the function that makes the gate act on y\n",
        "# 2 15 <- x,N to build the Unitary\n",
        "def xyModN(y, U, size, state):\n",
        "  return RemoveDuplicates(newState(state, size, U))"
      ],
      "metadata": {
        "colab": {
          "base_uri": "https://localhost:8080/"
        },
        "id": "kW5aG5ItihN3",
        "outputId": "a5fc3df5-da7e-4b00-f2f4-fffddc6cc1c3"
      },
      "execution_count": null,
      "outputs": [
        {
          "output_type": "stream",
          "name": "stdout",
          "text": [
            "00110\n"
          ]
        }
      ]
    },
    {
      "cell_type": "code",
      "source": [
        "SimulatorII()"
      ],
      "metadata": {
        "id": "LTORwnaiphpO"
      },
      "execution_count": null,
      "outputs": []
    }
  ],
  "metadata": {
    "colab": {
      "provenance": [],
      "authorship_tag": "ABX9TyOWaVLVlFHtMEXn9ruJCujY",
      "include_colab_link": true
    },
    "kernelspec": {
      "display_name": "Python 3",
      "name": "python3"
    },
    "language_info": {
      "name": "python"
    }
  },
  "nbformat": 4,
  "nbformat_minor": 0
}